{
 "cells": [
  {
   "cell_type": "code",
   "execution_count": 1,
   "id": "ec3e3687-077e-4d35-b67a-3a9314cc0f39",
   "metadata": {},
   "outputs": [
    {
     "name": "stdout",
     "output_type": "stream",
     "text": [
      "data/20/\n"
     ]
    }
   ],
   "source": [
    "import os\n",
    "\n",
    "VERSION = '20'\n",
    "INPUT_DIR = 'data/'\n",
    "VERSION_DIR = INPUT_DIR + VERSION + '/'\n",
    "os.makedirs(VERSION_DIR, exist_ok=True)\n",
    "\n",
    "print(VERSION_DIR)"
   ]
  },
  {
   "cell_type": "code",
   "execution_count": 2,
   "id": "dcb857d0-1506-452b-844d-3e48509dabd4",
   "metadata": {},
   "outputs": [],
   "source": [
    "import polars as pl\n",
    "import pandas as pd\n",
    "import numpy as np\n",
    "import math\n",
    "import gc\n",
    "from tqdm import tqdm\n",
    "from math import pi\n",
    "import pickle\n",
    "import random\n",
    "import datetime\n",
    "import matplotlib.pyplot as plt\n",
    "\n",
    "pl.Config.set_tbl_rows(100)\n",
    "pl.Config.set_tbl_cols(100)\n",
    "pd.set_option('display.max_rows', 100)\n",
    "pd.set_option('display.max_columns', 20)\n",
    "\n",
    "%load_ext memory_profiler"
   ]
  },
  {
   "cell_type": "code",
   "execution_count": 3,
   "id": "006d5692-0c56-4953-a5b4-c4fac2c302e9",
   "metadata": {},
   "outputs": [],
   "source": [
    "from utils import pkl_save, pkl_load, get_info"
   ]
  },
  {
   "cell_type": "code",
   "execution_count": 4,
   "id": "932dff8b-4ea0-4059-87b4-bffc49cd7c3c",
   "metadata": {},
   "outputs": [
    {
     "name": "stdout",
     "output_type": "stream",
     "text": [
      "peak memory: 149.23 MiB, increment: 13.09 MiB\n",
      "CPU times: total: 31.2 ms\n",
      "Wall time: 624 ms\n"
     ]
    }
   ],
   "source": [
    "%%time\n",
    "%%memit\n",
    "\n",
    "events = (\n",
    "    pl.read_csv(INPUT_DIR + 'train_events.csv')\n",
    "    .drop_nulls()\n",
    "    .with_columns(\n",
    "        pl.col('event').replace({'onset': 1, 'wakeup': -1}, default=None)\n",
    "    )\n",
    ")"
   ]
  },
  {
   "cell_type": "code",
   "execution_count": 5,
   "id": "5e2d7d66-22f4-4563-b0c5-6d2efd2125f0",
   "metadata": {},
   "outputs": [
    {
     "name": "stdout",
     "output_type": "stream",
     "text": [
      "peak memory: 26100.40 MiB, increment: 25950.86 MiB\n",
      "CPU times: total: 3min 22s\n",
      "Wall time: 45.4 s\n"
     ]
    }
   ],
   "source": [
    "%%time\n",
    "%%memit\n",
    "\n",
    "series = (\n",
    "    pl.read_parquet(INPUT_DIR + 'train_series.parquet')\n",
    "    .join(\n",
    "        events[['series_id', 'event', 'timestamp']],\n",
    "        on=['series_id', 'timestamp'],\n",
    "        how='left'\n",
    "    )\n",
    "    .with_columns(\n",
    "        pl.col('timestamp').str.to_datetime().dt.replace_time_zone(None),\n",
    "        pl.col('event').fill_null(0.0),\n",
    "        (pl.col('enmo') + 0.02).log().alias('enmo_log'),\n",
    "        (pl.col('anglez').rolling_std(25, center=True).over('series_id') + 1).log().fill_null(0).alias('anglez_std_log')\n",
    "    )\n",
    "    .with_columns(\n",
    "        pl.col('timestamp').dt.time().alias('time'),\n",
    "    )\n",
    "    .with_columns(\n",
    "        (pl.count().over(['series_id', 'time', 'anglez', 'enmo']) - 1).alias('periodicity_flag')\n",
    "    )\n",
    "    .with_columns(\n",
    "        pl.col('periodicity_flag') / pl.col('periodicity_flag').max().clip(1).over('series_id'),\n",
    "        pl.when(pl.col('periodicity_flag')==0).then(1).otherwise(0).alias('valid_flag')\n",
    "    )\n",
    ")"
   ]
  },
  {
   "cell_type": "code",
   "execution_count": 6,
   "id": "d0c6b542-78c5-4058-809c-5976d14ad91a",
   "metadata": {},
   "outputs": [
    {
     "data": {
      "text/html": [
       "<div><style>\n",
       ".dataframe > thead > tr,\n",
       ".dataframe > tbody > tr {\n",
       "  text-align: right;\n",
       "  white-space: pre-wrap;\n",
       "}\n",
       "</style>\n",
       "<small>shape: (35, 11)</small><table border=\"1\" class=\"dataframe\"><thead><tr><th>series_id</th><th>step</th><th>timestamp</th><th>anglez</th><th>enmo</th><th>event</th><th>enmo_log</th><th>anglez_std_log</th><th>time</th><th>periodicity_flag</th><th>valid_flag</th></tr><tr><td>str</td><td>u32</td><td>datetime[μs]</td><td>f32</td><td>f32</td><td>f64</td><td>f32</td><td>f32</td><td>time</td><td>f64</td><td>i32</td></tr></thead><tbody><tr><td>&quot;137b99e936ab&quot;</td><td>366876</td><td>2018-08-09 02:33:00</td><td>-19.1861</td><td>0.0088</td><td>1.0</td><td>-3.54738</td><td>1.306606</td><td>02:33:00</td><td>1.0</td><td>0</td></tr><tr><td>&quot;148471991ffb&quot;</td><td>133644</td><td>2019-01-18 11:52:00</td><td>-22.792299</td><td>0.008</td><td>-1.0</td><td>-3.575551</td><td>1.417929</td><td>11:52:00</td><td>0.9375</td><td>0</td></tr><tr><td>&quot;292a75c0b94e&quot;</td><td>108156</td><td>2019-03-21 00:28:00</td><td>-13.8235</td><td>0.0271</td><td>1.0</td><td>-3.055483</td><td>1.645103</td><td>00:28:00</td><td>0.777778</td><td>0</td></tr><tr><td>&quot;3d53bfea61d6&quot;</td><td>283476</td><td>2019-03-09 02:28:00</td><td>-8.3144</td><td>0.0736</td><td>1.0</td><td>-2.368725</td><td>1.796374</td><td>02:28:00</td><td>0.75</td><td>0</td></tr><tr><td>&quot;416354edd92a&quot;</td><td>90180</td><td>2018-11-02 01:00:00</td><td>0.1681</td><td>0.0274</td><td>1.0</td><td>-3.049133</td><td>3.800322</td><td>01:00:00</td><td>0.833333</td><td>0</td></tr><tr><td>&quot;599ca4ed791b&quot;</td><td>176796</td><td>2019-02-18 02:33:00</td><td>-39.8587</td><td>0.0142</td><td>1.0</td><td>-3.37553</td><td>1.02919</td><td>02:33:00</td><td>0.714286</td><td>0</td></tr><tr><td>&quot;5aad18e7ce64&quot;</td><td>3420</td><td>2018-02-06 02:45:00</td><td>-67.500298</td><td>0.0213</td><td>1.0</td><td>-3.186893</td><td>2.613216</td><td>02:45:00</td><td>1.0</td><td>0</td></tr><tr><td>&quot;5aad18e7ce64&quot;</td><td>9576</td><td>2018-02-06 11:18:00</td><td>-74.6679</td><td>0.0351</td><td>-1.0</td><td>-2.898606</td><td>0.787366</td><td>11:18:00</td><td>1.0</td><td>0</td></tr><tr><td>&quot;60d31b0bec3b&quot;</td><td>129600</td><td>2019-01-18 04:00:00</td><td>-10.6188</td><td>0.0169</td><td>1.0</td><td>-3.299544</td><td>3.255308</td><td>04:00:00</td><td>0.6</td><td>0</td></tr><tr><td>&quot;60e51cad2ffb&quot;</td><td>59532</td><td>2017-10-13 03:26:00</td><td>-56.613602</td><td>0.0105</td><td>1.0</td><td>-3.490029</td><td>1.996087</td><td>03:26:00</td><td>0.5</td><td>0</td></tr><tr><td>&quot;6ca4f4fca6a2&quot;</td><td>387540</td><td>2018-12-14 04:00:00</td><td>-4.9105</td><td>0.0031</td><td>1.0</td><td>-3.767923</td><td>0.846989</td><td>04:00:00</td><td>0.947368</td><td>0</td></tr><tr><td>&quot;6ca4f4fca6a2&quot;</td><td>389988</td><td>2018-12-14 07:24:00</td><td>-20.7911</td><td>0.0016</td><td>-1.0</td><td>-3.835062</td><td>0.688393</td><td>07:24:00</td><td>0.789474</td><td>0</td></tr><tr><td>&quot;6d6b9d22d48a&quot;</td><td>108216</td><td>2019-03-29 01:18:00</td><td>-24.67</td><td>0.0096</td><td>1.0</td><td>-3.519981</td><td>1.070788</td><td>01:18:00</td><td>0.75</td><td>0</td></tr><tr><td>&quot;703b5efa9bc1&quot;</td><td>94200</td><td>2018-06-25 04:35:00</td><td>-58.523899</td><td>0.0102</td><td>1.0</td><td>-3.499913</td><td>2.307878</td><td>04:35:00</td><td>0.863636</td><td>0</td></tr><tr><td>&quot;703b5efa9bc1&quot;</td><td>99972</td><td>2018-06-25 12:36:00</td><td>-18.362301</td><td>0.0064</td><td>-1.0</td><td>-3.634392</td><td>3.042222</td><td>12:36:00</td><td>0.818182</td><td>0</td></tr><tr><td>&quot;703b5efa9bc1&quot;</td><td>111480</td><td>2018-06-26 04:35:00</td><td>-58.523899</td><td>0.0102</td><td>1.0</td><td>-3.499913</td><td>2.307771</td><td>04:35:00</td><td>0.863636</td><td>0</td></tr><tr><td>&quot;703b5efa9bc1&quot;</td><td>117252</td><td>2018-06-26 12:36:00</td><td>-18.362301</td><td>0.0064</td><td>-1.0</td><td>-3.634392</td><td>3.042209</td><td>12:36:00</td><td>0.818182</td><td>0</td></tr><tr><td>&quot;83fa182bec3a&quot;</td><td>99756</td><td>2019-04-10 10:33:00</td><td>24.8018</td><td>0.0153</td><td>-1.0</td><td>-3.343873</td><td>1.846416</td><td>10:33:00</td><td>1.0</td><td>0</td></tr><tr><td>&quot;a2b0a64ec9cf&quot;</td><td>5508</td><td>2018-12-06 05:24:00</td><td>-52.706699</td><td>0.0033</td><td>1.0</td><td>-3.759302</td><td>2.97172</td><td>05:24:00</td><td>1.0</td><td>0</td></tr><tr><td>&quot;b737f8c78ec5&quot;</td><td>366924</td><td>2018-03-24 04:07:00</td><td>9.5454</td><td>0.0541</td><td>1.0</td><td>-2.60234</td><td>1.316275</td><td>04:07:00</td><td>0.85</td><td>0</td></tr><tr><td>&quot;b7fc34995d0f&quot;</td><td>24636</td><td>2018-06-29 01:58:00</td><td>-23.496099</td><td>0.0475</td><td>1.0</td><td>-2.695628</td><td>2.372155</td><td>01:58:00</td><td>0.90625</td><td>0</td></tr><tr><td>&quot;b7fc34995d0f&quot;</td><td>83916</td><td>2018-07-02 12:18:00</td><td>-16.0177</td><td>0.0239</td><td>-1.0</td><td>-3.125841</td><td>2.327186</td><td>12:18:00</td><td>0.875</td><td>0</td></tr><tr><td>&quot;bf00506437aa&quot;</td><td>57240</td><td>2019-06-04 01:00:00</td><td>-5.8175</td><td>0.0393</td><td>1.0</td><td>-2.825146</td><td>1.432737</td><td>01:00:00</td><td>0.769231</td><td>0</td></tr><tr><td>&quot;bf00506437aa&quot;</td><td>281916</td><td>2019-06-17 01:03:00</td><td>-3.3949</td><td>0.0135</td><td>1.0</td><td>-3.39621</td><td>1.319491</td><td>01:03:00</td><td>0.769231</td><td>0</td></tr><tr><td>&quot;bf00506437aa&quot;</td><td>299052</td><td>2019-06-18 00:51:00</td><td>-7.5386</td><td>0.0267</td><td>1.0</td><td>-3.064011</td><td>1.220241</td><td>00:51:00</td><td>0.769231</td><td>0</td></tr><tr><td>&quot;c107b5789660&quot;</td><td>6828</td><td>2018-07-06 03:29:00</td><td>-13.5696</td><td>0.031</td><td>1.0</td><td>-2.97593</td><td>4.052065</td><td>03:29:00</td><td>1.0</td><td>0</td></tr><tr><td>&quot;c289c8a823e0&quot;</td><td>354660</td><td>2018-06-28 03:05:00</td><td>-27.739401</td><td>0.0204</td><td>1.0</td><td>-3.208926</td><td>1.333012</td><td>03:05:00</td><td>0.833333</td><td>0</td></tr><tr><td>&quot;c5365a55ebb7&quot;</td><td>4044</td><td>2019-02-05 04:07:00</td><td>73.309799</td><td>0.0</td><td>1.0</td><td>-3.912023</td><td>3.30153</td><td>04:07:00</td><td>1.0</td><td>0</td></tr><tr><td>&quot;e0686434d029&quot;</td><td>201444</td><td>2018-04-18 12:02:00</td><td>20.971701</td><td>0.023</td><td>-1.0</td><td>-3.146555</td><td>1.535861</td><td>12:02:00</td><td>0.875</td><td>0</td></tr><tr><td>&quot;e0686434d029&quot;</td><td>565056</td><td>2018-05-09 13:03:00</td><td>10.3908</td><td>0.0338</td><td>-1.0</td><td>-2.922482</td><td>1.407789</td><td>13:03:00</td><td>1.0</td><td>0</td></tr><tr><td>&quot;e34b496b84ce&quot;</td><td>111636</td><td>2017-08-18 04:18:00</td><td>16.7565</td><td>0.0172</td><td>1.0</td><td>-3.291447</td><td>1.798017</td><td>04:18:00</td><td>0.909091</td><td>0</td></tr><tr><td>&quot;e4500e7e19e1&quot;</td><td>152820</td><td>2017-11-20 12:15:00</td><td>3.0313</td><td>0.0135</td><td>-1.0</td><td>-3.39621</td><td>1.151446</td><td>12:15:00</td><td>0.9</td><td>0</td></tr><tr><td>&quot;f2c2436cf7b7&quot;</td><td>369312</td><td>2018-10-03 01:11:00</td><td>-10.5328</td><td>0.0781</td><td>1.0</td><td>-2.321768</td><td>1.925361</td><td>01:11:00</td><td>0.714286</td><td>0</td></tr><tr><td>&quot;f56824b503a0&quot;</td><td>118428</td><td>2018-10-08 12:14:00</td><td>-7.199</td><td>0.0385</td><td>-1.0</td><td>-2.838729</td><td>1.758503</td><td>12:14:00</td><td>1.0</td><td>0</td></tr><tr><td>&quot;f56824b503a0&quot;</td><td>255900</td><td>2018-10-16 11:10:00</td><td>-4.6526</td><td>0.0683</td><td>-1.0</td><td>-2.427015</td><td>2.088305</td><td>11:10:00</td><td>1.0</td><td>0</td></tr></tbody></table></div>"
      ],
      "text/plain": [
       "shape: (35, 11)\n",
       "┌───────────┬────────┬───────────┬───────────┬────────┬───────┬───────────┬───────────┬──────────┬──────────┬──────────┐\n",
       "│ series_id ┆ step   ┆ timestamp ┆ anglez    ┆ enmo   ┆ event ┆ enmo_log  ┆ anglez_st ┆ time     ┆ periodic ┆ valid_fl │\n",
       "│ ---       ┆ ---    ┆ ---       ┆ ---       ┆ ---    ┆ ---   ┆ ---       ┆ d_log     ┆ ---      ┆ ity_flag ┆ ag       │\n",
       "│ str       ┆ u32    ┆ datetime[ ┆ f32       ┆ f32    ┆ f64   ┆ f32       ┆ ---       ┆ time     ┆ ---      ┆ ---      │\n",
       "│           ┆        ┆ μs]       ┆           ┆        ┆       ┆           ┆ f32       ┆          ┆ f64      ┆ i32      │\n",
       "╞═══════════╪════════╪═══════════╪═══════════╪════════╪═══════╪═══════════╪═══════════╪══════════╪══════════╪══════════╡\n",
       "│ 137b99e93 ┆ 366876 ┆ 2018-08-0 ┆ -19.1861  ┆ 0.0088 ┆ 1.0   ┆ -3.54738  ┆ 1.306606  ┆ 02:33:00 ┆ 1.0      ┆ 0        │\n",
       "│ 6ab       ┆        ┆ 9         ┆           ┆        ┆       ┆           ┆           ┆          ┆          ┆          │\n",
       "│           ┆        ┆ 02:33:00  ┆           ┆        ┆       ┆           ┆           ┆          ┆          ┆          │\n",
       "│ 148471991 ┆ 133644 ┆ 2019-01-1 ┆ -22.79229 ┆ 0.008  ┆ -1.0  ┆ -3.575551 ┆ 1.417929  ┆ 11:52:00 ┆ 0.9375   ┆ 0        │\n",
       "│ ffb       ┆        ┆ 8         ┆ 9         ┆        ┆       ┆           ┆           ┆          ┆          ┆          │\n",
       "│           ┆        ┆ 11:52:00  ┆           ┆        ┆       ┆           ┆           ┆          ┆          ┆          │\n",
       "│ 292a75c0b ┆ 108156 ┆ 2019-03-2 ┆ -13.8235  ┆ 0.0271 ┆ 1.0   ┆ -3.055483 ┆ 1.645103  ┆ 00:28:00 ┆ 0.777778 ┆ 0        │\n",
       "│ 94e       ┆        ┆ 1         ┆           ┆        ┆       ┆           ┆           ┆          ┆          ┆          │\n",
       "│           ┆        ┆ 00:28:00  ┆           ┆        ┆       ┆           ┆           ┆          ┆          ┆          │\n",
       "│ 3d53bfea6 ┆ 283476 ┆ 2019-03-0 ┆ -8.3144   ┆ 0.0736 ┆ 1.0   ┆ -2.368725 ┆ 1.796374  ┆ 02:28:00 ┆ 0.75     ┆ 0        │\n",
       "│ 1d6       ┆        ┆ 9         ┆           ┆        ┆       ┆           ┆           ┆          ┆          ┆          │\n",
       "│           ┆        ┆ 02:28:00  ┆           ┆        ┆       ┆           ┆           ┆          ┆          ┆          │\n",
       "│ 416354edd ┆ 90180  ┆ 2018-11-0 ┆ 0.1681    ┆ 0.0274 ┆ 1.0   ┆ -3.049133 ┆ 3.800322  ┆ 01:00:00 ┆ 0.833333 ┆ 0        │\n",
       "│ 92a       ┆        ┆ 2         ┆           ┆        ┆       ┆           ┆           ┆          ┆          ┆          │\n",
       "│           ┆        ┆ 01:00:00  ┆           ┆        ┆       ┆           ┆           ┆          ┆          ┆          │\n",
       "│ 599ca4ed7 ┆ 176796 ┆ 2019-02-1 ┆ -39.8587  ┆ 0.0142 ┆ 1.0   ┆ -3.37553  ┆ 1.02919   ┆ 02:33:00 ┆ 0.714286 ┆ 0        │\n",
       "│ 91b       ┆        ┆ 8         ┆           ┆        ┆       ┆           ┆           ┆          ┆          ┆          │\n",
       "│           ┆        ┆ 02:33:00  ┆           ┆        ┆       ┆           ┆           ┆          ┆          ┆          │\n",
       "│ 5aad18e7c ┆ 3420   ┆ 2018-02-0 ┆ -67.50029 ┆ 0.0213 ┆ 1.0   ┆ -3.186893 ┆ 2.613216  ┆ 02:45:00 ┆ 1.0      ┆ 0        │\n",
       "│ e64       ┆        ┆ 6         ┆ 8         ┆        ┆       ┆           ┆           ┆          ┆          ┆          │\n",
       "│           ┆        ┆ 02:45:00  ┆           ┆        ┆       ┆           ┆           ┆          ┆          ┆          │\n",
       "│ 5aad18e7c ┆ 9576   ┆ 2018-02-0 ┆ -74.6679  ┆ 0.0351 ┆ -1.0  ┆ -2.898606 ┆ 0.787366  ┆ 11:18:00 ┆ 1.0      ┆ 0        │\n",
       "│ e64       ┆        ┆ 6         ┆           ┆        ┆       ┆           ┆           ┆          ┆          ┆          │\n",
       "│           ┆        ┆ 11:18:00  ┆           ┆        ┆       ┆           ┆           ┆          ┆          ┆          │\n",
       "│ 60d31b0be ┆ 129600 ┆ 2019-01-1 ┆ -10.6188  ┆ 0.0169 ┆ 1.0   ┆ -3.299544 ┆ 3.255308  ┆ 04:00:00 ┆ 0.6      ┆ 0        │\n",
       "│ c3b       ┆        ┆ 8         ┆           ┆        ┆       ┆           ┆           ┆          ┆          ┆          │\n",
       "│           ┆        ┆ 04:00:00  ┆           ┆        ┆       ┆           ┆           ┆          ┆          ┆          │\n",
       "│ 60e51cad2 ┆ 59532  ┆ 2017-10-1 ┆ -56.61360 ┆ 0.0105 ┆ 1.0   ┆ -3.490029 ┆ 1.996087  ┆ 03:26:00 ┆ 0.5      ┆ 0        │\n",
       "│ ffb       ┆        ┆ 3         ┆ 2         ┆        ┆       ┆           ┆           ┆          ┆          ┆          │\n",
       "│           ┆        ┆ 03:26:00  ┆           ┆        ┆       ┆           ┆           ┆          ┆          ┆          │\n",
       "│ 6ca4f4fca ┆ 387540 ┆ 2018-12-1 ┆ -4.9105   ┆ 0.0031 ┆ 1.0   ┆ -3.767923 ┆ 0.846989  ┆ 04:00:00 ┆ 0.947368 ┆ 0        │\n",
       "│ 6a2       ┆        ┆ 4         ┆           ┆        ┆       ┆           ┆           ┆          ┆          ┆          │\n",
       "│           ┆        ┆ 04:00:00  ┆           ┆        ┆       ┆           ┆           ┆          ┆          ┆          │\n",
       "│ 6ca4f4fca ┆ 389988 ┆ 2018-12-1 ┆ -20.7911  ┆ 0.0016 ┆ -1.0  ┆ -3.835062 ┆ 0.688393  ┆ 07:24:00 ┆ 0.789474 ┆ 0        │\n",
       "│ 6a2       ┆        ┆ 4         ┆           ┆        ┆       ┆           ┆           ┆          ┆          ┆          │\n",
       "│           ┆        ┆ 07:24:00  ┆           ┆        ┆       ┆           ┆           ┆          ┆          ┆          │\n",
       "│ 6d6b9d22d ┆ 108216 ┆ 2019-03-2 ┆ -24.67    ┆ 0.0096 ┆ 1.0   ┆ -3.519981 ┆ 1.070788  ┆ 01:18:00 ┆ 0.75     ┆ 0        │\n",
       "│ 48a       ┆        ┆ 9         ┆           ┆        ┆       ┆           ┆           ┆          ┆          ┆          │\n",
       "│           ┆        ┆ 01:18:00  ┆           ┆        ┆       ┆           ┆           ┆          ┆          ┆          │\n",
       "│ 703b5efa9 ┆ 94200  ┆ 2018-06-2 ┆ -58.52389 ┆ 0.0102 ┆ 1.0   ┆ -3.499913 ┆ 2.307878  ┆ 04:35:00 ┆ 0.863636 ┆ 0        │\n",
       "│ bc1       ┆        ┆ 5         ┆ 9         ┆        ┆       ┆           ┆           ┆          ┆          ┆          │\n",
       "│           ┆        ┆ 04:35:00  ┆           ┆        ┆       ┆           ┆           ┆          ┆          ┆          │\n",
       "│ 703b5efa9 ┆ 99972  ┆ 2018-06-2 ┆ -18.36230 ┆ 0.0064 ┆ -1.0  ┆ -3.634392 ┆ 3.042222  ┆ 12:36:00 ┆ 0.818182 ┆ 0        │\n",
       "│ bc1       ┆        ┆ 5         ┆ 1         ┆        ┆       ┆           ┆           ┆          ┆          ┆          │\n",
       "│           ┆        ┆ 12:36:00  ┆           ┆        ┆       ┆           ┆           ┆          ┆          ┆          │\n",
       "│ 703b5efa9 ┆ 111480 ┆ 2018-06-2 ┆ -58.52389 ┆ 0.0102 ┆ 1.0   ┆ -3.499913 ┆ 2.307771  ┆ 04:35:00 ┆ 0.863636 ┆ 0        │\n",
       "│ bc1       ┆        ┆ 6         ┆ 9         ┆        ┆       ┆           ┆           ┆          ┆          ┆          │\n",
       "│           ┆        ┆ 04:35:00  ┆           ┆        ┆       ┆           ┆           ┆          ┆          ┆          │\n",
       "│ 703b5efa9 ┆ 117252 ┆ 2018-06-2 ┆ -18.36230 ┆ 0.0064 ┆ -1.0  ┆ -3.634392 ┆ 3.042209  ┆ 12:36:00 ┆ 0.818182 ┆ 0        │\n",
       "│ bc1       ┆        ┆ 6         ┆ 1         ┆        ┆       ┆           ┆           ┆          ┆          ┆          │\n",
       "│           ┆        ┆ 12:36:00  ┆           ┆        ┆       ┆           ┆           ┆          ┆          ┆          │\n",
       "│ 83fa182be ┆ 99756  ┆ 2019-04-1 ┆ 24.8018   ┆ 0.0153 ┆ -1.0  ┆ -3.343873 ┆ 1.846416  ┆ 10:33:00 ┆ 1.0      ┆ 0        │\n",
       "│ c3a       ┆        ┆ 0         ┆           ┆        ┆       ┆           ┆           ┆          ┆          ┆          │\n",
       "│           ┆        ┆ 10:33:00  ┆           ┆        ┆       ┆           ┆           ┆          ┆          ┆          │\n",
       "│ a2b0a64ec ┆ 5508   ┆ 2018-12-0 ┆ -52.70669 ┆ 0.0033 ┆ 1.0   ┆ -3.759302 ┆ 2.97172   ┆ 05:24:00 ┆ 1.0      ┆ 0        │\n",
       "│ 9cf       ┆        ┆ 6         ┆ 9         ┆        ┆       ┆           ┆           ┆          ┆          ┆          │\n",
       "│           ┆        ┆ 05:24:00  ┆           ┆        ┆       ┆           ┆           ┆          ┆          ┆          │\n",
       "│ b737f8c78 ┆ 366924 ┆ 2018-03-2 ┆ 9.5454    ┆ 0.0541 ┆ 1.0   ┆ -2.60234  ┆ 1.316275  ┆ 04:07:00 ┆ 0.85     ┆ 0        │\n",
       "│ ec5       ┆        ┆ 4         ┆           ┆        ┆       ┆           ┆           ┆          ┆          ┆          │\n",
       "│           ┆        ┆ 04:07:00  ┆           ┆        ┆       ┆           ┆           ┆          ┆          ┆          │\n",
       "│ b7fc34995 ┆ 24636  ┆ 2018-06-2 ┆ -23.49609 ┆ 0.0475 ┆ 1.0   ┆ -2.695628 ┆ 2.372155  ┆ 01:58:00 ┆ 0.90625  ┆ 0        │\n",
       "│ d0f       ┆        ┆ 9         ┆ 9         ┆        ┆       ┆           ┆           ┆          ┆          ┆          │\n",
       "│           ┆        ┆ 01:58:00  ┆           ┆        ┆       ┆           ┆           ┆          ┆          ┆          │\n",
       "│ b7fc34995 ┆ 83916  ┆ 2018-07-0 ┆ -16.0177  ┆ 0.0239 ┆ -1.0  ┆ -3.125841 ┆ 2.327186  ┆ 12:18:00 ┆ 0.875    ┆ 0        │\n",
       "│ d0f       ┆        ┆ 2         ┆           ┆        ┆       ┆           ┆           ┆          ┆          ┆          │\n",
       "│           ┆        ┆ 12:18:00  ┆           ┆        ┆       ┆           ┆           ┆          ┆          ┆          │\n",
       "│ bf0050643 ┆ 57240  ┆ 2019-06-0 ┆ -5.8175   ┆ 0.0393 ┆ 1.0   ┆ -2.825146 ┆ 1.432737  ┆ 01:00:00 ┆ 0.769231 ┆ 0        │\n",
       "│ 7aa       ┆        ┆ 4         ┆           ┆        ┆       ┆           ┆           ┆          ┆          ┆          │\n",
       "│           ┆        ┆ 01:00:00  ┆           ┆        ┆       ┆           ┆           ┆          ┆          ┆          │\n",
       "│ bf0050643 ┆ 281916 ┆ 2019-06-1 ┆ -3.3949   ┆ 0.0135 ┆ 1.0   ┆ -3.39621  ┆ 1.319491  ┆ 01:03:00 ┆ 0.769231 ┆ 0        │\n",
       "│ 7aa       ┆        ┆ 7         ┆           ┆        ┆       ┆           ┆           ┆          ┆          ┆          │\n",
       "│           ┆        ┆ 01:03:00  ┆           ┆        ┆       ┆           ┆           ┆          ┆          ┆          │\n",
       "│ bf0050643 ┆ 299052 ┆ 2019-06-1 ┆ -7.5386   ┆ 0.0267 ┆ 1.0   ┆ -3.064011 ┆ 1.220241  ┆ 00:51:00 ┆ 0.769231 ┆ 0        │\n",
       "│ 7aa       ┆        ┆ 8         ┆           ┆        ┆       ┆           ┆           ┆          ┆          ┆          │\n",
       "│           ┆        ┆ 00:51:00  ┆           ┆        ┆       ┆           ┆           ┆          ┆          ┆          │\n",
       "│ c107b5789 ┆ 6828   ┆ 2018-07-0 ┆ -13.5696  ┆ 0.031  ┆ 1.0   ┆ -2.97593  ┆ 4.052065  ┆ 03:29:00 ┆ 1.0      ┆ 0        │\n",
       "│ 660       ┆        ┆ 6         ┆           ┆        ┆       ┆           ┆           ┆          ┆          ┆          │\n",
       "│           ┆        ┆ 03:29:00  ┆           ┆        ┆       ┆           ┆           ┆          ┆          ┆          │\n",
       "│ c289c8a82 ┆ 354660 ┆ 2018-06-2 ┆ -27.73940 ┆ 0.0204 ┆ 1.0   ┆ -3.208926 ┆ 1.333012  ┆ 03:05:00 ┆ 0.833333 ┆ 0        │\n",
       "│ 3e0       ┆        ┆ 8         ┆ 1         ┆        ┆       ┆           ┆           ┆          ┆          ┆          │\n",
       "│           ┆        ┆ 03:05:00  ┆           ┆        ┆       ┆           ┆           ┆          ┆          ┆          │\n",
       "│ c5365a55e ┆ 4044   ┆ 2019-02-0 ┆ 73.309799 ┆ 0.0    ┆ 1.0   ┆ -3.912023 ┆ 3.30153   ┆ 04:07:00 ┆ 1.0      ┆ 0        │\n",
       "│ bb7       ┆        ┆ 5         ┆           ┆        ┆       ┆           ┆           ┆          ┆          ┆          │\n",
       "│           ┆        ┆ 04:07:00  ┆           ┆        ┆       ┆           ┆           ┆          ┆          ┆          │\n",
       "│ e0686434d ┆ 201444 ┆ 2018-04-1 ┆ 20.971701 ┆ 0.023  ┆ -1.0  ┆ -3.146555 ┆ 1.535861  ┆ 12:02:00 ┆ 0.875    ┆ 0        │\n",
       "│ 029       ┆        ┆ 8         ┆           ┆        ┆       ┆           ┆           ┆          ┆          ┆          │\n",
       "│           ┆        ┆ 12:02:00  ┆           ┆        ┆       ┆           ┆           ┆          ┆          ┆          │\n",
       "│ e0686434d ┆ 565056 ┆ 2018-05-0 ┆ 10.3908   ┆ 0.0338 ┆ -1.0  ┆ -2.922482 ┆ 1.407789  ┆ 13:03:00 ┆ 1.0      ┆ 0        │\n",
       "│ 029       ┆        ┆ 9         ┆           ┆        ┆       ┆           ┆           ┆          ┆          ┆          │\n",
       "│           ┆        ┆ 13:03:00  ┆           ┆        ┆       ┆           ┆           ┆          ┆          ┆          │\n",
       "│ e34b496b8 ┆ 111636 ┆ 2017-08-1 ┆ 16.7565   ┆ 0.0172 ┆ 1.0   ┆ -3.291447 ┆ 1.798017  ┆ 04:18:00 ┆ 0.909091 ┆ 0        │\n",
       "│ 4ce       ┆        ┆ 8         ┆           ┆        ┆       ┆           ┆           ┆          ┆          ┆          │\n",
       "│           ┆        ┆ 04:18:00  ┆           ┆        ┆       ┆           ┆           ┆          ┆          ┆          │\n",
       "│ e4500e7e1 ┆ 152820 ┆ 2017-11-2 ┆ 3.0313    ┆ 0.0135 ┆ -1.0  ┆ -3.39621  ┆ 1.151446  ┆ 12:15:00 ┆ 0.9      ┆ 0        │\n",
       "│ 9e1       ┆        ┆ 0         ┆           ┆        ┆       ┆           ┆           ┆          ┆          ┆          │\n",
       "│           ┆        ┆ 12:15:00  ┆           ┆        ┆       ┆           ┆           ┆          ┆          ┆          │\n",
       "│ f2c2436cf ┆ 369312 ┆ 2018-10-0 ┆ -10.5328  ┆ 0.0781 ┆ 1.0   ┆ -2.321768 ┆ 1.925361  ┆ 01:11:00 ┆ 0.714286 ┆ 0        │\n",
       "│ 7b7       ┆        ┆ 3         ┆           ┆        ┆       ┆           ┆           ┆          ┆          ┆          │\n",
       "│           ┆        ┆ 01:11:00  ┆           ┆        ┆       ┆           ┆           ┆          ┆          ┆          │\n",
       "│ f56824b50 ┆ 118428 ┆ 2018-10-0 ┆ -7.199    ┆ 0.0385 ┆ -1.0  ┆ -2.838729 ┆ 1.758503  ┆ 12:14:00 ┆ 1.0      ┆ 0        │\n",
       "│ 3a0       ┆        ┆ 8         ┆           ┆        ┆       ┆           ┆           ┆          ┆          ┆          │\n",
       "│           ┆        ┆ 12:14:00  ┆           ┆        ┆       ┆           ┆           ┆          ┆          ┆          │\n",
       "│ f56824b50 ┆ 255900 ┆ 2018-10-1 ┆ -4.6526   ┆ 0.0683 ┆ -1.0  ┆ -2.427015 ┆ 2.088305  ┆ 11:10:00 ┆ 1.0      ┆ 0        │\n",
       "│ 3a0       ┆        ┆ 6         ┆           ┆        ┆       ┆           ┆           ┆          ┆          ┆          │\n",
       "│           ┆        ┆ 11:10:00  ┆           ┆        ┆       ┆           ┆           ┆          ┆          ┆          │\n",
       "└───────────┴────────┴───────────┴───────────┴────────┴───────┴───────────┴───────────┴──────────┴──────────┴──────────┘"
      ]
     },
     "execution_count": 6,
     "metadata": {},
     "output_type": "execute_result"
    }
   ],
   "source": [
    "series.filter((series['periodicity_flag']>0) & (series['event']!=0))"
   ]
  },
  {
   "cell_type": "code",
   "execution_count": 7,
   "id": "18c6dc5f-89ea-4d59-a6b8-34b8f25fbe28",
   "metadata": {},
   "outputs": [
    {
     "name": "stdout",
     "output_type": "stream",
     "text": [
      "series_ids.pkl // FILE SIZE: 0 MB\n"
     ]
    }
   ],
   "source": [
    "series_ids = list(set(series['series_id'].unique()) & set(events['series_id'].unique()))\n",
    "series_ids.sort()\n",
    "pkl_save(series_ids, VERSION_DIR, 'series_ids')"
   ]
  },
  {
   "cell_type": "code",
   "execution_count": 8,
   "id": "c2b4f715-b94f-4c63-83a8-06c30d79ffc5",
   "metadata": {},
   "outputs": [
    {
     "name": "stdout",
     "output_type": "stream",
     "text": [
      "info.pkl // FILE SIZE: 0 MB\n"
     ]
    },
    {
     "data": {
      "text/plain": [
       "{'anglez_std_log': {'mean': 1.8299718526628137, 'std': 1.1959794759750366},\n",
       " 'enmo_log': {'mean': -3.165060254585465, 'std': 0.7336516976356506}}"
      ]
     },
     "metadata": {},
     "output_type": "display_data"
    }
   ],
   "source": [
    "NUM_FEATURES = ['anglez_std_log', 'enmo_log']\n",
    "CAT_FEATURES = ['periodicity_flag']\n",
    "\n",
    "info = get_info(series, NUM_FEATURES, VERSION_DIR, 'info')"
   ]
  },
  {
   "cell_type": "code",
   "execution_count": 9,
   "id": "f0f21026-ce04-421b-8afd-673837bbb728",
   "metadata": {},
   "outputs": [],
   "source": [
    "SERIES_SCHEMA = {\n",
    "    'series_id': pl.Utf8,\n",
    "    'step': pl.UInt32,\n",
    "    'timestamp': pl.Datetime,\n",
    "    'time': pl.Time,\n",
    "    'anglez_std_log': pl.Float32,\n",
    "    'enmo_log': pl.Float32,\n",
    "    'periodicity_flag': pl.Float32,\n",
    "    'valid_flag': pl.Float32,\n",
    "    'target': pl.Float32,\n",
    "    'onset_step': pl.UInt32,\n",
    "    'wakeup_step': pl.UInt32,\n",
    "    'onset_night': pl.UInt32,\n",
    "    'wakeup_night': pl.UInt32,\n",
    "}"
   ]
  },
  {
   "cell_type": "code",
   "execution_count": 10,
   "id": "3e494022-42f2-4a18-be12-2554ad9d81a7",
   "metadata": {},
   "outputs": [],
   "source": [
    "dist_length = 720\n",
    "sigma = dist_length // 12\n",
    "n_zeros = 24\n",
    "dist = np.concatenate([np.arange(1, (dist_length-n_zeros)//2+1)[::-1], np.zeros(n_zeros), np.arange(1, (dist_length-n_zeros)//2+1)])\n",
    "dist = np.exp(-(dist**2) / (2 * sigma * sigma))"
   ]
  },
  {
   "cell_type": "code",
   "execution_count": 11,
   "id": "6a908285-1e74-49b0-ae71-ca6164711c41",
   "metadata": {},
   "outputs": [],
   "source": [
    "om = [datetime.time(hour, minute, second) for hour in list(range(12, 24)) + list(range(0, 12)) for minute in range(60) for second in range(0, 60, 5)]\n",
    "om = {t: i for i, t in enumerate(om)}\n",
    "wm = [datetime.time(hour, minute, second) for hour in list(range(17, 24)) + list(range(0, 17)) for minute in range(60) for second in range(0, 60, 5)]\n",
    "wm = {t: i for i, t in enumerate(wm)}"
   ]
  },
  {
   "cell_type": "code",
   "execution_count": 12,
   "id": "cfe0bc18-f02d-4c55-a679-1abce6a41b6e",
   "metadata": {},
   "outputs": [
    {
     "name": "stderr",
     "output_type": "stream",
     "text": [
      "100%|████████████████████████████████████████████████████████████████████████████████| 269/269 [17:39<00:00,  3.94s/it]\n"
     ]
    },
    {
     "name": "stdout",
     "output_type": "stream",
     "text": [
      "peak memory: 21734.80 MiB, increment: 3764.98 MiB\n",
      "CPU times: total: 12min 1s\n",
      "Wall time: 17min 39s\n"
     ]
    }
   ],
   "source": [
    "%%time\n",
    "%%memit\n",
    "\n",
    "dfs = {}\n",
    "list_onset_Xs = []\n",
    "list_wakeup_Xs = []\n",
    "list_onset_df_1min = []\n",
    "list_wakeup_df_1min = []\n",
    "\n",
    "for series_id in tqdm(series_ids, total=len(series_ids)):\n",
    "    \n",
    "    df = series.filter(series['series_id']==series_id)\n",
    "\n",
    "    d = df[0, 'timestamp']\n",
    "\n",
    "    ### onset ###\n",
    "    on = np.zeros(len(df))\n",
    "    if d > datetime.datetime(d.year, d.month, d.day, 12, 0):\n",
    "        ot = datetime.datetime(d.year, d.month, d.day, 12, 0) + datetime.timedelta(days=1) - datetime.datetime(d.year, d.month, d.day, d.hour, d.minute)\n",
    "        on += 1\n",
    "    else:\n",
    "        ot = datetime.datetime(d.year, d.month, d.day, 12, 0) - datetime.datetime(d.year, d.month, d.day, d.hour, d.minute)\n",
    "    \n",
    "    for i in range(math.ceil((len(df) - ot.seconds // 5) / (720*24))):\n",
    "        on[ot.seconds // 5 + 720*24*i:] += 1\n",
    "    for n in np.unique(on):\n",
    "        assert (on == n).sum() <= 720*24\n",
    "        \n",
    "    ### wakeup ###\n",
    "    wn = np.zeros(len(df))\n",
    "    if d > datetime.datetime(d.year, d.month, d.day, 17, 0):\n",
    "        wt = datetime.datetime(d.year, d.month, d.day, 17, 0) + datetime.timedelta(days=1) - datetime.datetime(d.year, d.month, d.day, d.hour, d.minute)\n",
    "        wn += 1\n",
    "    else:\n",
    "        wt = datetime.datetime(d.year, d.month, d.day, 17, 0) - datetime.datetime(d.year, d.month, d.day, d.hour, d.minute)\n",
    "    \n",
    "    for i in range(math.ceil((len(df) - wt.seconds // 5) / (720*24))):\n",
    "        wn[wt.seconds // 5 + 720*24*i:] += 1\n",
    "    for n in np.unique(wn):\n",
    "        assert (wn == n).sum() <= 720*24\n",
    "\n",
    "    \n",
    "    df = (\n",
    "        df\n",
    "        .with_columns(\n",
    "            [(pl.col(c) - info[c]['mean']) / info[c]['std'] for c in info]\n",
    "            +\n",
    "            [pl.lit(on).alias('onset_night'), \n",
    "             pl.lit(wn).alias('wakeup_night'),\n",
    "             pl.lit(np.convolve(df['event'], dist, mode='same')).alias('target'),\n",
    "             pl.col('time').replace(om, default=None).alias('onset_step'),\n",
    "             pl.col('time').replace(wm, default=None).alias('wakeup_step')]\n",
    "        )\n",
    "        .with_columns(\n",
    "            [pl.col(c).cast(SERIES_SCHEMA[c]) for c in SERIES_SCHEMA]\n",
    "        )\n",
    "        .select(SERIES_SCHEMA)\n",
    "    )\n",
    "\n",
    "    ### onset ###\n",
    "    list_X_tmp = []\n",
    "    for c in NUM_FEATURES + CAT_FEATURES:\n",
    "        df_pivot = (\n",
    "            df\n",
    "            .pivot(index='onset_night', columns='onset_step', values=c)\n",
    "            .select([f'{i}' for i in range(720*24)])\n",
    "        )\n",
    "        X_pred = df_pivot.shift(1).fill_null(0).to_numpy()\n",
    "        X = df_pivot.fill_null(0).to_numpy()\n",
    "        X_next = df_pivot.shift(-1).fill_null(0).to_numpy()\n",
    "        X = np.concatenate([X_pred[:, -720:], X, X_next[:, :720]], axis=1)\n",
    "        list_X_tmp.append(X)\n",
    "    list_onset_Xs.append(np.stack(list_X_tmp, axis=1))\n",
    "\n",
    "    df_1min = (\n",
    "        df\n",
    "        .sort('timestamp')\n",
    "        .group_by_dynamic('timestamp', every='1m')\n",
    "        .agg(\n",
    "            pl.col('series_id').first(),\n",
    "            pl.col('onset_night').first(),\n",
    "            pl.col('onset_step').first(),\n",
    "            pl.col('step').mean().cast(pl.UInt32),\n",
    "            pl.col('target').mean(),\n",
    "            pl.col('valid_flag').max()\n",
    "        )\n",
    "    )\n",
    "    list_onset_df_1min.append(df_1min)\n",
    "\n",
    "    ### wakeup ###\n",
    "    list_X_tmp = []\n",
    "    for c in NUM_FEATURES + CAT_FEATURES:\n",
    "        df_pivot = (\n",
    "            df\n",
    "            .pivot(index='wakeup_night', columns='wakeup_step', values=c)\n",
    "            .select([f'{i}' for i in range(720*24)])\n",
    "        )\n",
    "        X_pred = df_pivot.shift(1).fill_null(0).to_numpy()\n",
    "        X = df_pivot.fill_null(0).to_numpy()\n",
    "        X_next = df_pivot.shift(-1).fill_null(0).to_numpy()\n",
    "        X = np.concatenate([X_pred[:, -720:], X, X_next[:, :720]], axis=1)\n",
    "        list_X_tmp.append(X)\n",
    "    list_wakeup_Xs.append(np.stack(list_X_tmp, axis=1))\n",
    "\n",
    "    df_1min = (\n",
    "        df\n",
    "        .sort('timestamp')\n",
    "        .group_by_dynamic('timestamp', every='1m')\n",
    "        .agg(\n",
    "            pl.col('series_id').first(),\n",
    "            pl.col('wakeup_night').first(),\n",
    "            pl.col('wakeup_step').first(),\n",
    "            pl.col('step').mean().cast(pl.UInt32),\n",
    "            pl.col('target').mean(),\n",
    "            pl.col('valid_flag').max()\n",
    "        )\n",
    "    )\n",
    "    list_wakeup_df_1min.append(df_1min)\n",
    "        \n",
    "    del df\n",
    "    gc.collect()\n",
    "\n",
    "del series\n",
    "gc.collect()"
   ]
  },
  {
   "cell_type": "code",
   "execution_count": 13,
   "id": "722268fc-9ecf-40fc-815b-bfbd7cd97fed",
   "metadata": {},
   "outputs": [
    {
     "data": {
      "image/png": "[encoded data removed]",
      "text/plain": [
       "<Figure size 1200x300 with 1 Axes>"
      ]
     },
     "metadata": {},
     "output_type": "display_data"
    }
   ],
   "source": [
    "plt.figure(figsize=(12, 3))\n",
    "plt.plot(df_1min[1710:1810, 'step'], df_1min[1710:1810, 'target'], label='target')\n",
    "plt.xlabel('step')\n",
    "plt.ylabel('target')\n",
    "plt.legend()\n",
    "plt.show()"
   ]
  },
  {
   "cell_type": "code",
   "execution_count": 14,
   "id": "b661634a-ea32-4c3d-9538-8d3aab5a23dd",
   "metadata": {},
   "outputs": [
    {
     "name": "stdout",
     "output_type": "stream",
     "text": [
      "(14912, 3, 18720)\n"
     ]
    },
    {
     "data": {
      "text/plain": [
       "3533"
      ]
     },
     "execution_count": 14,
     "metadata": {},
     "output_type": "execute_result"
    }
   ],
   "source": [
    "Xs = np.concatenate(list_onset_Xs + list_wakeup_Xs)\n",
    "\n",
    "print(Xs.shape)\n",
    "\n",
    "del list_onset_Xs, list_wakeup_Xs\n",
    "gc.collect()"
   ]
  },
  {
   "cell_type": "code",
   "execution_count": 15,
   "id": "7e02da9f-e778-4bd2-9af6-7dd27a0f9f2e",
   "metadata": {},
   "outputs": [],
   "source": [
    "def create_ys_like(list_onset_df_1min, list_wakeup_df_1min, column):\n",
    "    \n",
    "    return (\n",
    "        pl.concat(\n",
    "            [\n",
    "                (\n",
    "                    pl.concat(list_onset_df_1min)\n",
    "                    .pivot(index=['series_id', 'onset_night'], columns='onset_step', values=column)\n",
    "                    .with_columns(\n",
    "                        pl.lit('onset').alias('kind'),\n",
    "                        pl.col('onset_night').alias('night'),\n",
    "                    )\n",
    "                    .select(['series_id', 'kind', 'night'] + [f'{i}' for i in range(0, 720*24, 12)])\n",
    "                ),\n",
    "                (\n",
    "                    pl.concat(list_wakeup_df_1min)\n",
    "                    .pivot(index=['series_id', 'wakeup_night'], columns='wakeup_step', values=column)\n",
    "                    .with_columns(\n",
    "                        pl.lit('wakeup').alias('kind'),\n",
    "                        pl.col('wakeup_night').alias('night'),\n",
    "                    )\n",
    "                    .select(['series_id', 'kind', 'night'] + [f'{i}' for i in range(0, 720*24, 12)])\n",
    "                )\n",
    "            ]\n",
    "        )\n",
    "        .fill_null(0)\n",
    "    )"
   ]
  },
  {
   "cell_type": "code",
   "execution_count": 16,
   "id": "df014bfc-9b9e-4707-8788-fb5a6b8f4f68",
   "metadata": {},
   "outputs": [
    {
     "data": {
      "text/html": [
       "<div><style>\n",
       ".dataframe > thead > tr,\n",
       ".dataframe > tbody > tr {\n",
       "  text-align: right;\n",
       "  white-space: pre-wrap;\n",
       "}\n",
       "</style>\n",
       "<small>shape: (5, 1_443)</small><table border=\"1\" class=\"dataframe\"><thead><tr><th>series_id</th><th>kind</th><th>night</th><th>0</th><th>12</th><th>24</th><th>36</th><th>48</th><th>60</th><th>72</th><th>84</th><th>96</th><th>108</th><th>120</th><th>132</th><th>144</th><th>156</th><th>168</th><th>180</th><th>192</th><th>204</th><th>216</th><th>228</th><th>240</th><th>252</th><th>264</th><th>276</th><th>288</th><th>300</th><th>312</th><th>324</th><th>336</th><th>348</th><th>360</th><th>372</th><th>384</th><th>396</th><th>408</th><th>420</th><th>432</th><th>444</th><th>456</th><th>468</th><th>480</th><th>492</th><th>504</th><th>516</th><th>528</th><th>540</th><th>552</th><th>&hellip;</th><th>16680</th><th>16692</th><th>16704</th><th>16716</th><th>16728</th><th>16740</th><th>16752</th><th>16764</th><th>16776</th><th>16788</th><th>16800</th><th>16812</th><th>16824</th><th>16836</th><th>16848</th><th>16860</th><th>16872</th><th>16884</th><th>16896</th><th>16908</th><th>16920</th><th>16932</th><th>16944</th><th>16956</th><th>16968</th><th>16980</th><th>16992</th><th>17004</th><th>17016</th><th>17028</th><th>17040</th><th>17052</th><th>17064</th><th>17076</th><th>17088</th><th>17100</th><th>17112</th><th>17124</th><th>17136</th><th>17148</th><th>17160</th><th>17172</th><th>17184</th><th>17196</th><th>17208</th><th>17220</th><th>17232</th><th>17244</th><th>17256</th><th>17268</th></tr><tr><td>str</td><td>str</td><td>u32</td><td>u32</td><td>u32</td><td>u32</td><td>u32</td><td>u32</td><td>u32</td><td>u32</td><td>u32</td><td>u32</td><td>u32</td><td>u32</td><td>u32</td><td>u32</td><td>u32</td><td>u32</td><td>u32</td><td>u32</td><td>u32</td><td>u32</td><td>u32</td><td>u32</td><td>u32</td><td>u32</td><td>u32</td><td>u32</td><td>u32</td><td>u32</td><td>u32</td><td>u32</td><td>u32</td><td>u32</td><td>u32</td><td>u32</td><td>u32</td><td>u32</td><td>u32</td><td>u32</td><td>u32</td><td>u32</td><td>u32</td><td>u32</td><td>u32</td><td>u32</td><td>u32</td><td>u32</td><td>u32</td><td>u32</td><td>&hellip;</td><td>u32</td><td>u32</td><td>u32</td><td>u32</td><td>u32</td><td>u32</td><td>u32</td><td>u32</td><td>u32</td><td>u32</td><td>u32</td><td>u32</td><td>u32</td><td>u32</td><td>u32</td><td>u32</td><td>u32</td><td>u32</td><td>u32</td><td>u32</td><td>u32</td><td>u32</td><td>u32</td><td>u32</td><td>u32</td><td>u32</td><td>u32</td><td>u32</td><td>u32</td><td>u32</td><td>u32</td><td>u32</td><td>u32</td><td>u32</td><td>u32</td><td>u32</td><td>u32</td><td>u32</td><td>u32</td><td>u32</td><td>u32</td><td>u32</td><td>u32</td><td>u32</td><td>u32</td><td>u32</td><td>u32</td><td>u32</td><td>u32</td><td>u32</td></tr></thead><tbody><tr><td>&quot;038441c925bb&quot;</td><td>&quot;onset&quot;</td><td>1</td><td>0</td><td>0</td><td>0</td><td>0</td><td>0</td><td>0</td><td>0</td><td>0</td><td>0</td><td>0</td><td>0</td><td>0</td><td>0</td><td>0</td><td>0</td><td>0</td><td>0</td><td>0</td><td>0</td><td>0</td><td>0</td><td>0</td><td>0</td><td>0</td><td>0</td><td>0</td><td>0</td><td>0</td><td>0</td><td>0</td><td>0</td><td>0</td><td>0</td><td>0</td><td>0</td><td>0</td><td>0</td><td>0</td><td>0</td><td>0</td><td>0</td><td>0</td><td>0</td><td>0</td><td>0</td><td>0</td><td>0</td><td>&hellip;</td><td>11285</td><td>11297</td><td>11309</td><td>11321</td><td>11333</td><td>11345</td><td>11357</td><td>11369</td><td>11381</td><td>11393</td><td>11405</td><td>11417</td><td>11429</td><td>11441</td><td>11453</td><td>11465</td><td>11477</td><td>11489</td><td>11501</td><td>11513</td><td>11525</td><td>11537</td><td>11549</td><td>11561</td><td>11573</td><td>11585</td><td>11597</td><td>11609</td><td>11621</td><td>11633</td><td>11645</td><td>11657</td><td>11669</td><td>11681</td><td>11693</td><td>11705</td><td>11717</td><td>11729</td><td>11741</td><td>11753</td><td>11765</td><td>11777</td><td>11789</td><td>11801</td><td>11813</td><td>11825</td><td>11837</td><td>11849</td><td>11861</td><td>11873</td></tr><tr><td>&quot;038441c925bb&quot;</td><td>&quot;onset&quot;</td><td>2</td><td>11885</td><td>11897</td><td>11909</td><td>11921</td><td>11933</td><td>11945</td><td>11957</td><td>11969</td><td>11981</td><td>11993</td><td>12005</td><td>12017</td><td>12029</td><td>12041</td><td>12053</td><td>12065</td><td>12077</td><td>12089</td><td>12101</td><td>12113</td><td>12125</td><td>12137</td><td>12149</td><td>12161</td><td>12173</td><td>12185</td><td>12197</td><td>12209</td><td>12221</td><td>12233</td><td>12245</td><td>12257</td><td>12269</td><td>12281</td><td>12293</td><td>12305</td><td>12317</td><td>12329</td><td>12341</td><td>12353</td><td>12365</td><td>12377</td><td>12389</td><td>12401</td><td>12413</td><td>12425</td><td>12437</td><td>&hellip;</td><td>28565</td><td>28577</td><td>28589</td><td>28601</td><td>28613</td><td>28625</td><td>28637</td><td>28649</td><td>28661</td><td>28673</td><td>28685</td><td>28697</td><td>28709</td><td>28721</td><td>28733</td><td>28745</td><td>28757</td><td>28769</td><td>28781</td><td>28793</td><td>28805</td><td>28817</td><td>28829</td><td>28841</td><td>28853</td><td>28865</td><td>28877</td><td>28889</td><td>28901</td><td>28913</td><td>28925</td><td>28937</td><td>28949</td><td>28961</td><td>28973</td><td>28985</td><td>28997</td><td>29009</td><td>29021</td><td>29033</td><td>29045</td><td>29057</td><td>29069</td><td>29081</td><td>29093</td><td>29105</td><td>29117</td><td>29129</td><td>29141</td><td>29153</td></tr><tr><td>&quot;038441c925bb&quot;</td><td>&quot;onset&quot;</td><td>3</td><td>29165</td><td>29177</td><td>29189</td><td>29201</td><td>29213</td><td>29225</td><td>29237</td><td>29249</td><td>29261</td><td>29273</td><td>29285</td><td>29297</td><td>29309</td><td>29321</td><td>29333</td><td>29345</td><td>29357</td><td>29369</td><td>29381</td><td>29393</td><td>29405</td><td>29417</td><td>29429</td><td>29441</td><td>29453</td><td>29465</td><td>29477</td><td>29489</td><td>29501</td><td>29513</td><td>29525</td><td>29537</td><td>29549</td><td>29561</td><td>29573</td><td>29585</td><td>29597</td><td>29609</td><td>29621</td><td>29633</td><td>29645</td><td>29657</td><td>29669</td><td>29681</td><td>29693</td><td>29705</td><td>29717</td><td>&hellip;</td><td>45845</td><td>45857</td><td>45869</td><td>45881</td><td>45893</td><td>45905</td><td>45917</td><td>45929</td><td>45941</td><td>45953</td><td>45965</td><td>45977</td><td>45989</td><td>46001</td><td>46013</td><td>46025</td><td>46037</td><td>46049</td><td>46061</td><td>46073</td><td>46085</td><td>46097</td><td>46109</td><td>46121</td><td>46133</td><td>46145</td><td>46157</td><td>46169</td><td>46181</td><td>46193</td><td>46205</td><td>46217</td><td>46229</td><td>46241</td><td>46253</td><td>46265</td><td>46277</td><td>46289</td><td>46301</td><td>46313</td><td>46325</td><td>46337</td><td>46349</td><td>46361</td><td>46373</td><td>46385</td><td>46397</td><td>46409</td><td>46421</td><td>46433</td></tr><tr><td>&quot;038441c925bb&quot;</td><td>&quot;onset&quot;</td><td>4</td><td>46445</td><td>46457</td><td>46469</td><td>46481</td><td>46493</td><td>46505</td><td>46517</td><td>46529</td><td>46541</td><td>46553</td><td>46565</td><td>46577</td><td>46589</td><td>46601</td><td>46613</td><td>46625</td><td>46637</td><td>46649</td><td>46661</td><td>46673</td><td>46685</td><td>46697</td><td>46709</td><td>46721</td><td>46733</td><td>46745</td><td>46757</td><td>46769</td><td>46781</td><td>46793</td><td>46805</td><td>46817</td><td>46829</td><td>46841</td><td>46853</td><td>46865</td><td>46877</td><td>46889</td><td>46901</td><td>46913</td><td>46925</td><td>46937</td><td>46949</td><td>46961</td><td>46973</td><td>46985</td><td>46997</td><td>&hellip;</td><td>63125</td><td>63137</td><td>63149</td><td>63161</td><td>63173</td><td>63185</td><td>63197</td><td>63209</td><td>63221</td><td>63233</td><td>63245</td><td>63257</td><td>63269</td><td>63281</td><td>63293</td><td>63305</td><td>63317</td><td>63329</td><td>63341</td><td>63353</td><td>63365</td><td>63377</td><td>63389</td><td>63401</td><td>63413</td><td>63425</td><td>63437</td><td>63449</td><td>63461</td><td>63473</td><td>63485</td><td>63497</td><td>63509</td><td>63521</td><td>63533</td><td>63545</td><td>63557</td><td>63569</td><td>63581</td><td>63593</td><td>63605</td><td>63617</td><td>63629</td><td>63641</td><td>63653</td><td>63665</td><td>63677</td><td>63689</td><td>63701</td><td>63713</td></tr><tr><td>&quot;038441c925bb&quot;</td><td>&quot;onset&quot;</td><td>5</td><td>63725</td><td>63737</td><td>63749</td><td>63761</td><td>63773</td><td>63785</td><td>63797</td><td>63809</td><td>63821</td><td>63833</td><td>63845</td><td>63857</td><td>63869</td><td>63881</td><td>63893</td><td>63905</td><td>63917</td><td>63929</td><td>63941</td><td>63953</td><td>63965</td><td>63977</td><td>63989</td><td>64001</td><td>64013</td><td>64025</td><td>64037</td><td>64049</td><td>64061</td><td>64073</td><td>64085</td><td>64097</td><td>64109</td><td>64121</td><td>64133</td><td>64145</td><td>64157</td><td>64169</td><td>64181</td><td>64193</td><td>64205</td><td>64217</td><td>64229</td><td>64241</td><td>64253</td><td>64265</td><td>64277</td><td>&hellip;</td><td>80405</td><td>80417</td><td>80429</td><td>80441</td><td>80453</td><td>80465</td><td>80477</td><td>80489</td><td>80501</td><td>80513</td><td>80525</td><td>80537</td><td>80549</td><td>80561</td><td>80573</td><td>80585</td><td>80597</td><td>80609</td><td>80621</td><td>80633</td><td>80645</td><td>80657</td><td>80669</td><td>80681</td><td>80693</td><td>80705</td><td>80717</td><td>80729</td><td>80741</td><td>80753</td><td>80765</td><td>80777</td><td>80789</td><td>80801</td><td>80813</td><td>80825</td><td>80837</td><td>80849</td><td>80861</td><td>80873</td><td>80885</td><td>80897</td><td>80909</td><td>80921</td><td>80933</td><td>80945</td><td>80957</td><td>80969</td><td>80981</td><td>80993</td></tr></tbody></table></div>"
      ],
      "text/plain": [
       "shape: (5, 1_443)\n",
       "┌─────┬─────┬─────┬─────┬─────┬─────┬─────┬─────┬─────┬─────┬─────┬─────┬─────┬─────┬─────┬─────┬─────┬─────┬─────┬─────┬─────┬─────┬─────┬─────┬─────┬─────┬─────┬─────┬─────┬─────┬─────┬─────┬─────┬─────┬─────┬─────┬─────┬─────┬─────┬─────┬─────┬─────┬─────┬─────┬─────┬─────┬─────┬─────┬─────┬─────┬───┬─────┬─────┬─────┬─────┬─────┬─────┬─────┬─────┬─────┬─────┬─────┬─────┬─────┬─────┬─────┬─────┬─────┬─────┬─────┬─────┬─────┬─────┬─────┬─────┬─────┬─────┬─────┬─────┬─────┬─────┬─────┬─────┬─────┬─────┬─────┬─────┬─────┬─────┬─────┬─────┬─────┬─────┬─────┬─────┬─────┬─────┬─────┬─────┬─────┬─────┐\n",
       "│ ser ┆ kin ┆ nig ┆ 0   ┆ 12  ┆ 24  ┆ 36  ┆ 48  ┆ 60  ┆ 72  ┆ 84  ┆ 96  ┆ 108 ┆ 120 ┆ 132 ┆ 144 ┆ 156 ┆ 168 ┆ 180 ┆ 192 ┆ 204 ┆ 216 ┆ 228 ┆ 240 ┆ 252 ┆ 264 ┆ 276 ┆ 288 ┆ 300 ┆ 312 ┆ 324 ┆ 336 ┆ 348 ┆ 360 ┆ 372 ┆ 384 ┆ 396 ┆ 408 ┆ 420 ┆ 432 ┆ 444 ┆ 456 ┆ 468 ┆ 480 ┆ 492 ┆ 504 ┆ 516 ┆ 528 ┆ 540 ┆ 552 ┆ … ┆ 166 ┆ 166 ┆ 167 ┆ 167 ┆ 167 ┆ 167 ┆ 167 ┆ 167 ┆ 167 ┆ 167 ┆ 168 ┆ 168 ┆ 168 ┆ 168 ┆ 168 ┆ 168 ┆ 168 ┆ 168 ┆ 168 ┆ 169 ┆ 169 ┆ 169 ┆ 169 ┆ 169 ┆ 169 ┆ 169 ┆ 169 ┆ 170 ┆ 170 ┆ 170 ┆ 170 ┆ 170 ┆ 170 ┆ 170 ┆ 170 ┆ 171 ┆ 171 ┆ 171 ┆ 171 ┆ 171 ┆ 171 ┆ 171 ┆ 171 ┆ 171 ┆ 172 ┆ 172 ┆ 172 ┆ 172 ┆ 172 ┆ 172 │\n",
       "│ ies ┆ d   ┆ ht  ┆ --- ┆ --- ┆ --- ┆ --- ┆ --- ┆ --- ┆ --- ┆ --- ┆ --- ┆ --- ┆ --- ┆ --- ┆ --- ┆ --- ┆ --- ┆ --- ┆ --- ┆ --- ┆ --- ┆ --- ┆ --- ┆ --- ┆ --- ┆ --- ┆ --- ┆ --- ┆ --- ┆ --- ┆ --- ┆ --- ┆ --- ┆ --- ┆ --- ┆ --- ┆ --- ┆ --- ┆ --- ┆ --- ┆ --- ┆ --- ┆ --- ┆ --- ┆ --- ┆ --- ┆ --- ┆ --- ┆ --- ┆   ┆ 80  ┆ 92  ┆ 04  ┆ 16  ┆ 28  ┆ 40  ┆ 52  ┆ 64  ┆ 76  ┆ 88  ┆ 00  ┆ 12  ┆ 24  ┆ 36  ┆ 48  ┆ 60  ┆ 72  ┆ 84  ┆ 96  ┆ 08  ┆ 20  ┆ 32  ┆ 44  ┆ 56  ┆ 68  ┆ 80  ┆ 92  ┆ 04  ┆ 16  ┆ 28  ┆ 40  ┆ 52  ┆ 64  ┆ 76  ┆ 88  ┆ 00  ┆ 12  ┆ 24  ┆ 36  ┆ 48  ┆ 60  ┆ 72  ┆ 84  ┆ 96  ┆ 08  ┆ 20  ┆ 32  ┆ 44  ┆ 56  ┆ 68  │\n",
       "│ _id ┆ --- ┆ --- ┆ u32 ┆ u32 ┆ u32 ┆ u32 ┆ u32 ┆ u32 ┆ u32 ┆ u32 ┆ u32 ┆ u32 ┆ u32 ┆ u32 ┆ u32 ┆ u32 ┆ u32 ┆ u32 ┆ u32 ┆ u32 ┆ u32 ┆ u32 ┆ u32 ┆ u32 ┆ u32 ┆ u32 ┆ u32 ┆ u32 ┆ u32 ┆ u32 ┆ u32 ┆ u32 ┆ u32 ┆ u32 ┆ u32 ┆ u32 ┆ u32 ┆ u32 ┆ u32 ┆ u32 ┆ u32 ┆ u32 ┆ u32 ┆ u32 ┆ u32 ┆ u32 ┆ u32 ┆ u32 ┆ u32 ┆   ┆ --- ┆ --- ┆ --- ┆ --- ┆ --- ┆ --- ┆ --- ┆ --- ┆ --- ┆ --- ┆ --- ┆ --- ┆ --- ┆ --- ┆ --- ┆ --- ┆ --- ┆ --- ┆ --- ┆ --- ┆ --- ┆ --- ┆ --- ┆ --- ┆ --- ┆ --- ┆ --- ┆ --- ┆ --- ┆ --- ┆ --- ┆ --- ┆ --- ┆ --- ┆ --- ┆ --- ┆ --- ┆ --- ┆ --- ┆ --- ┆ --- ┆ --- ┆ --- ┆ --- ┆ --- ┆ --- ┆ --- ┆ --- ┆ --- ┆ --- │\n",
       "│ --- ┆ str ┆ u32 ┆     ┆     ┆     ┆     ┆     ┆     ┆     ┆     ┆     ┆     ┆     ┆     ┆     ┆     ┆     ┆     ┆     ┆     ┆     ┆     ┆     ┆     ┆     ┆     ┆     ┆     ┆     ┆     ┆     ┆     ┆     ┆     ┆     ┆     ┆     ┆     ┆     ┆     ┆     ┆     ┆     ┆     ┆     ┆     ┆     ┆     ┆     ┆   ┆ u32 ┆ u32 ┆ u32 ┆ u32 ┆ u32 ┆ u32 ┆ u32 ┆ u32 ┆ u32 ┆ u32 ┆ u32 ┆ u32 ┆ u32 ┆ u32 ┆ u32 ┆ u32 ┆ u32 ┆ u32 ┆ u32 ┆ u32 ┆ u32 ┆ u32 ┆ u32 ┆ u32 ┆ u32 ┆ u32 ┆ u32 ┆ u32 ┆ u32 ┆ u32 ┆ u32 ┆ u32 ┆ u32 ┆ u32 ┆ u32 ┆ u32 ┆ u32 ┆ u32 ┆ u32 ┆ u32 ┆ u32 ┆ u32 ┆ u32 ┆ u32 ┆ u32 ┆ u32 ┆ u32 ┆ u32 ┆ u32 ┆ u32 │\n",
       "│ str ┆     ┆     ┆     ┆     ┆     ┆     ┆     ┆     ┆     ┆     ┆     ┆     ┆     ┆     ┆     ┆     ┆     ┆     ┆     ┆     ┆     ┆     ┆     ┆     ┆     ┆     ┆     ┆     ┆     ┆     ┆     ┆     ┆     ┆     ┆     ┆     ┆     ┆     ┆     ┆     ┆     ┆     ┆     ┆     ┆     ┆     ┆     ┆     ┆     ┆   ┆     ┆     ┆     ┆     ┆     ┆     ┆     ┆     ┆     ┆     ┆     ┆     ┆     ┆     ┆     ┆     ┆     ┆     ┆     ┆     ┆     ┆     ┆     ┆     ┆     ┆     ┆     ┆     ┆     ┆     ┆     ┆     ┆     ┆     ┆     ┆     ┆     ┆     ┆     ┆     ┆     ┆     ┆     ┆     ┆     ┆     ┆     ┆     ┆     ┆     │\n",
       "╞═════╪═════╪═════╪═════╪═════╪═════╪═════╪═════╪═════╪═════╪═════╪═════╪═════╪═════╪═════╪═════╪═════╪═════╪═════╪═════╪═════╪═════╪═════╪═════╪═════╪═════╪═════╪═════╪═════╪═════╪═════╪═════╪═════╪═════╪═════╪═════╪═════╪═════╪═════╪═════╪═════╪═════╪═════╪═════╪═════╪═════╪═════╪═════╪═════╪═════╪═══╪═════╪═════╪═════╪═════╪═════╪═════╪═════╪═════╪═════╪═════╪═════╪═════╪═════╪═════╪═════╪═════╪═════╪═════╪═════╪═════╪═════╪═════╪═════╪═════╪═════╪═════╪═════╪═════╪═════╪═════╪═════╪═════╪═════╪═════╪═════╪═════╪═════╪═════╪═════╪═════╪═════╪═════╪═════╪═════╪═════╪═════╪═════╪═════╪═════╪═════╡\n",
       "│ 038 ┆ ons ┆ 1   ┆ 0   ┆ 0   ┆ 0   ┆ 0   ┆ 0   ┆ 0   ┆ 0   ┆ 0   ┆ 0   ┆ 0   ┆ 0   ┆ 0   ┆ 0   ┆ 0   ┆ 0   ┆ 0   ┆ 0   ┆ 0   ┆ 0   ┆ 0   ┆ 0   ┆ 0   ┆ 0   ┆ 0   ┆ 0   ┆ 0   ┆ 0   ┆ 0   ┆ 0   ┆ 0   ┆ 0   ┆ 0   ┆ 0   ┆ 0   ┆ 0   ┆ 0   ┆ 0   ┆ 0   ┆ 0   ┆ 0   ┆ 0   ┆ 0   ┆ 0   ┆ 0   ┆ 0   ┆ 0   ┆ 0   ┆ … ┆ 112 ┆ 112 ┆ 113 ┆ 113 ┆ 113 ┆ 113 ┆ 113 ┆ 113 ┆ 113 ┆ 113 ┆ 114 ┆ 114 ┆ 114 ┆ 114 ┆ 114 ┆ 114 ┆ 114 ┆ 114 ┆ 115 ┆ 115 ┆ 115 ┆ 115 ┆ 115 ┆ 115 ┆ 115 ┆ 115 ┆ 115 ┆ 116 ┆ 116 ┆ 116 ┆ 116 ┆ 116 ┆ 116 ┆ 116 ┆ 116 ┆ 117 ┆ 117 ┆ 117 ┆ 117 ┆ 117 ┆ 117 ┆ 117 ┆ 117 ┆ 118 ┆ 118 ┆ 118 ┆ 118 ┆ 118 ┆ 118 ┆ 118 │\n",
       "│ 441 ┆ et  ┆     ┆     ┆     ┆     ┆     ┆     ┆     ┆     ┆     ┆     ┆     ┆     ┆     ┆     ┆     ┆     ┆     ┆     ┆     ┆     ┆     ┆     ┆     ┆     ┆     ┆     ┆     ┆     ┆     ┆     ┆     ┆     ┆     ┆     ┆     ┆     ┆     ┆     ┆     ┆     ┆     ┆     ┆     ┆     ┆     ┆     ┆     ┆     ┆   ┆ 85  ┆ 97  ┆ 09  ┆ 21  ┆ 33  ┆ 45  ┆ 57  ┆ 69  ┆ 81  ┆ 93  ┆ 05  ┆ 17  ┆ 29  ┆ 41  ┆ 53  ┆ 65  ┆ 77  ┆ 89  ┆ 01  ┆ 13  ┆ 25  ┆ 37  ┆ 49  ┆ 61  ┆ 73  ┆ 85  ┆ 97  ┆ 09  ┆ 21  ┆ 33  ┆ 45  ┆ 57  ┆ 69  ┆ 81  ┆ 93  ┆ 05  ┆ 17  ┆ 29  ┆ 41  ┆ 53  ┆ 65  ┆ 77  ┆ 89  ┆ 01  ┆ 13  ┆ 25  ┆ 37  ┆ 49  ┆ 61  ┆ 73  │\n",
       "│ c92 ┆     ┆     ┆     ┆     ┆     ┆     ┆     ┆     ┆     ┆     ┆     ┆     ┆     ┆     ┆     ┆     ┆     ┆     ┆     ┆     ┆     ┆     ┆     ┆     ┆     ┆     ┆     ┆     ┆     ┆     ┆     ┆     ┆     ┆     ┆     ┆     ┆     ┆     ┆     ┆     ┆     ┆     ┆     ┆     ┆     ┆     ┆     ┆     ┆     ┆   ┆     ┆     ┆     ┆     ┆     ┆     ┆     ┆     ┆     ┆     ┆     ┆     ┆     ┆     ┆     ┆     ┆     ┆     ┆     ┆     ┆     ┆     ┆     ┆     ┆     ┆     ┆     ┆     ┆     ┆     ┆     ┆     ┆     ┆     ┆     ┆     ┆     ┆     ┆     ┆     ┆     ┆     ┆     ┆     ┆     ┆     ┆     ┆     ┆     ┆     │\n",
       "│ 5bb ┆     ┆     ┆     ┆     ┆     ┆     ┆     ┆     ┆     ┆     ┆     ┆     ┆     ┆     ┆     ┆     ┆     ┆     ┆     ┆     ┆     ┆     ┆     ┆     ┆     ┆     ┆     ┆     ┆     ┆     ┆     ┆     ┆     ┆     ┆     ┆     ┆     ┆     ┆     ┆     ┆     ┆     ┆     ┆     ┆     ┆     ┆     ┆     ┆     ┆   ┆     ┆     ┆     ┆     ┆     ┆     ┆     ┆     ┆     ┆     ┆     ┆     ┆     ┆     ┆     ┆     ┆     ┆     ┆     ┆     ┆     ┆     ┆     ┆     ┆     ┆     ┆     ┆     ┆     ┆     ┆     ┆     ┆     ┆     ┆     ┆     ┆     ┆     ┆     ┆     ┆     ┆     ┆     ┆     ┆     ┆     ┆     ┆     ┆     ┆     │\n",
       "│ 038 ┆ ons ┆ 2   ┆ 118 ┆ 118 ┆ 119 ┆ 119 ┆ 119 ┆ 119 ┆ 119 ┆ 119 ┆ 119 ┆ 119 ┆ 120 ┆ 120 ┆ 120 ┆ 120 ┆ 120 ┆ 120 ┆ 120 ┆ 120 ┆ 121 ┆ 121 ┆ 121 ┆ 121 ┆ 121 ┆ 121 ┆ 121 ┆ 121 ┆ 121 ┆ 122 ┆ 122 ┆ 122 ┆ 122 ┆ 122 ┆ 122 ┆ 122 ┆ 122 ┆ 123 ┆ 123 ┆ 123 ┆ 123 ┆ 123 ┆ 123 ┆ 123 ┆ 123 ┆ 124 ┆ 124 ┆ 124 ┆ 124 ┆ … ┆ 285 ┆ 285 ┆ 285 ┆ 286 ┆ 286 ┆ 286 ┆ 286 ┆ 286 ┆ 286 ┆ 286 ┆ 286 ┆ 286 ┆ 287 ┆ 287 ┆ 287 ┆ 287 ┆ 287 ┆ 287 ┆ 287 ┆ 287 ┆ 288 ┆ 288 ┆ 288 ┆ 288 ┆ 288 ┆ 288 ┆ 288 ┆ 288 ┆ 289 ┆ 289 ┆ 289 ┆ 289 ┆ 289 ┆ 289 ┆ 289 ┆ 289 ┆ 289 ┆ 290 ┆ 290 ┆ 290 ┆ 290 ┆ 290 ┆ 290 ┆ 290 ┆ 290 ┆ 291 ┆ 291 ┆ 291 ┆ 291 ┆ 291 │\n",
       "│ 441 ┆ et  ┆     ┆ 85  ┆ 97  ┆ 09  ┆ 21  ┆ 33  ┆ 45  ┆ 57  ┆ 69  ┆ 81  ┆ 93  ┆ 05  ┆ 17  ┆ 29  ┆ 41  ┆ 53  ┆ 65  ┆ 77  ┆ 89  ┆ 01  ┆ 13  ┆ 25  ┆ 37  ┆ 49  ┆ 61  ┆ 73  ┆ 85  ┆ 97  ┆ 09  ┆ 21  ┆ 33  ┆ 45  ┆ 57  ┆ 69  ┆ 81  ┆ 93  ┆ 05  ┆ 17  ┆ 29  ┆ 41  ┆ 53  ┆ 65  ┆ 77  ┆ 89  ┆ 01  ┆ 13  ┆ 25  ┆ 37  ┆   ┆ 65  ┆ 77  ┆ 89  ┆ 01  ┆ 13  ┆ 25  ┆ 37  ┆ 49  ┆ 61  ┆ 73  ┆ 85  ┆ 97  ┆ 09  ┆ 21  ┆ 33  ┆ 45  ┆ 57  ┆ 69  ┆ 81  ┆ 93  ┆ 05  ┆ 17  ┆ 29  ┆ 41  ┆ 53  ┆ 65  ┆ 77  ┆ 89  ┆ 01  ┆ 13  ┆ 25  ┆ 37  ┆ 49  ┆ 61  ┆ 73  ┆ 85  ┆ 97  ┆ 09  ┆ 21  ┆ 33  ┆ 45  ┆ 57  ┆ 69  ┆ 81  ┆ 93  ┆ 05  ┆ 17  ┆ 29  ┆ 41  ┆ 53  │\n",
       "│ c92 ┆     ┆     ┆     ┆     ┆     ┆     ┆     ┆     ┆     ┆     ┆     ┆     ┆     ┆     ┆     ┆     ┆     ┆     ┆     ┆     ┆     ┆     ┆     ┆     ┆     ┆     ┆     ┆     ┆     ┆     ┆     ┆     ┆     ┆     ┆     ┆     ┆     ┆     ┆     ┆     ┆     ┆     ┆     ┆     ┆     ┆     ┆     ┆     ┆     ┆   ┆     ┆     ┆     ┆     ┆     ┆     ┆     ┆     ┆     ┆     ┆     ┆     ┆     ┆     ┆     ┆     ┆     ┆     ┆     ┆     ┆     ┆     ┆     ┆     ┆     ┆     ┆     ┆     ┆     ┆     ┆     ┆     ┆     ┆     ┆     ┆     ┆     ┆     ┆     ┆     ┆     ┆     ┆     ┆     ┆     ┆     ┆     ┆     ┆     ┆     │\n",
       "│ 5bb ┆     ┆     ┆     ┆     ┆     ┆     ┆     ┆     ┆     ┆     ┆     ┆     ┆     ┆     ┆     ┆     ┆     ┆     ┆     ┆     ┆     ┆     ┆     ┆     ┆     ┆     ┆     ┆     ┆     ┆     ┆     ┆     ┆     ┆     ┆     ┆     ┆     ┆     ┆     ┆     ┆     ┆     ┆     ┆     ┆     ┆     ┆     ┆     ┆     ┆   ┆     ┆     ┆     ┆     ┆     ┆     ┆     ┆     ┆     ┆     ┆     ┆     ┆     ┆     ┆     ┆     ┆     ┆     ┆     ┆     ┆     ┆     ┆     ┆     ┆     ┆     ┆     ┆     ┆     ┆     ┆     ┆     ┆     ┆     ┆     ┆     ┆     ┆     ┆     ┆     ┆     ┆     ┆     ┆     ┆     ┆     ┆     ┆     ┆     ┆     │\n",
       "│ 038 ┆ ons ┆ 3   ┆ 291 ┆ 291 ┆ 291 ┆ 292 ┆ 292 ┆ 292 ┆ 292 ┆ 292 ┆ 292 ┆ 292 ┆ 292 ┆ 292 ┆ 293 ┆ 293 ┆ 293 ┆ 293 ┆ 293 ┆ 293 ┆ 293 ┆ 293 ┆ 294 ┆ 294 ┆ 294 ┆ 294 ┆ 294 ┆ 294 ┆ 294 ┆ 294 ┆ 295 ┆ 295 ┆ 295 ┆ 295 ┆ 295 ┆ 295 ┆ 295 ┆ 295 ┆ 295 ┆ 296 ┆ 296 ┆ 296 ┆ 296 ┆ 296 ┆ 296 ┆ 296 ┆ 296 ┆ 297 ┆ 297 ┆ … ┆ 458 ┆ 458 ┆ 458 ┆ 458 ┆ 458 ┆ 459 ┆ 459 ┆ 459 ┆ 459 ┆ 459 ┆ 459 ┆ 459 ┆ 459 ┆ 460 ┆ 460 ┆ 460 ┆ 460 ┆ 460 ┆ 460 ┆ 460 ┆ 460 ┆ 460 ┆ 461 ┆ 461 ┆ 461 ┆ 461 ┆ 461 ┆ 461 ┆ 461 ┆ 461 ┆ 462 ┆ 462 ┆ 462 ┆ 462 ┆ 462 ┆ 462 ┆ 462 ┆ 462 ┆ 463 ┆ 463 ┆ 463 ┆ 463 ┆ 463 ┆ 463 ┆ 463 ┆ 463 ┆ 463 ┆ 464 ┆ 464 ┆ 464 │\n",
       "│ 441 ┆ et  ┆     ┆ 65  ┆ 77  ┆ 89  ┆ 01  ┆ 13  ┆ 25  ┆ 37  ┆ 49  ┆ 61  ┆ 73  ┆ 85  ┆ 97  ┆ 09  ┆ 21  ┆ 33  ┆ 45  ┆ 57  ┆ 69  ┆ 81  ┆ 93  ┆ 05  ┆ 17  ┆ 29  ┆ 41  ┆ 53  ┆ 65  ┆ 77  ┆ 89  ┆ 01  ┆ 13  ┆ 25  ┆ 37  ┆ 49  ┆ 61  ┆ 73  ┆ 85  ┆ 97  ┆ 09  ┆ 21  ┆ 33  ┆ 45  ┆ 57  ┆ 69  ┆ 81  ┆ 93  ┆ 05  ┆ 17  ┆   ┆ 45  ┆ 57  ┆ 69  ┆ 81  ┆ 93  ┆ 05  ┆ 17  ┆ 29  ┆ 41  ┆ 53  ┆ 65  ┆ 77  ┆ 89  ┆ 01  ┆ 13  ┆ 25  ┆ 37  ┆ 49  ┆ 61  ┆ 73  ┆ 85  ┆ 97  ┆ 09  ┆ 21  ┆ 33  ┆ 45  ┆ 57  ┆ 69  ┆ 81  ┆ 93  ┆ 05  ┆ 17  ┆ 29  ┆ 41  ┆ 53  ┆ 65  ┆ 77  ┆ 89  ┆ 01  ┆ 13  ┆ 25  ┆ 37  ┆ 49  ┆ 61  ┆ 73  ┆ 85  ┆ 97  ┆ 09  ┆ 21  ┆ 33  │\n",
       "│ c92 ┆     ┆     ┆     ┆     ┆     ┆     ┆     ┆     ┆     ┆     ┆     ┆     ┆     ┆     ┆     ┆     ┆     ┆     ┆     ┆     ┆     ┆     ┆     ┆     ┆     ┆     ┆     ┆     ┆     ┆     ┆     ┆     ┆     ┆     ┆     ┆     ┆     ┆     ┆     ┆     ┆     ┆     ┆     ┆     ┆     ┆     ┆     ┆     ┆     ┆   ┆     ┆     ┆     ┆     ┆     ┆     ┆     ┆     ┆     ┆     ┆     ┆     ┆     ┆     ┆     ┆     ┆     ┆     ┆     ┆     ┆     ┆     ┆     ┆     ┆     ┆     ┆     ┆     ┆     ┆     ┆     ┆     ┆     ┆     ┆     ┆     ┆     ┆     ┆     ┆     ┆     ┆     ┆     ┆     ┆     ┆     ┆     ┆     ┆     ┆     │\n",
       "│ 5bb ┆     ┆     ┆     ┆     ┆     ┆     ┆     ┆     ┆     ┆     ┆     ┆     ┆     ┆     ┆     ┆     ┆     ┆     ┆     ┆     ┆     ┆     ┆     ┆     ┆     ┆     ┆     ┆     ┆     ┆     ┆     ┆     ┆     ┆     ┆     ┆     ┆     ┆     ┆     ┆     ┆     ┆     ┆     ┆     ┆     ┆     ┆     ┆     ┆     ┆   ┆     ┆     ┆     ┆     ┆     ┆     ┆     ┆     ┆     ┆     ┆     ┆     ┆     ┆     ┆     ┆     ┆     ┆     ┆     ┆     ┆     ┆     ┆     ┆     ┆     ┆     ┆     ┆     ┆     ┆     ┆     ┆     ┆     ┆     ┆     ┆     ┆     ┆     ┆     ┆     ┆     ┆     ┆     ┆     ┆     ┆     ┆     ┆     ┆     ┆     │\n",
       "│ 038 ┆ ons ┆ 4   ┆ 464 ┆ 464 ┆ 464 ┆ 464 ┆ 464 ┆ 465 ┆ 465 ┆ 465 ┆ 465 ┆ 465 ┆ 465 ┆ 465 ┆ 465 ┆ 466 ┆ 466 ┆ 466 ┆ 466 ┆ 466 ┆ 466 ┆ 466 ┆ 466 ┆ 466 ┆ 467 ┆ 467 ┆ 467 ┆ 467 ┆ 467 ┆ 467 ┆ 467 ┆ 467 ┆ 468 ┆ 468 ┆ 468 ┆ 468 ┆ 468 ┆ 468 ┆ 468 ┆ 468 ┆ 469 ┆ 469 ┆ 469 ┆ 469 ┆ 469 ┆ 469 ┆ 469 ┆ 469 ┆ 469 ┆ … ┆ 631 ┆ 631 ┆ 631 ┆ 631 ┆ 631 ┆ 631 ┆ 631 ┆ 632 ┆ 632 ┆ 632 ┆ 632 ┆ 632 ┆ 632 ┆ 632 ┆ 632 ┆ 633 ┆ 633 ┆ 633 ┆ 633 ┆ 633 ┆ 633 ┆ 633 ┆ 633 ┆ 634 ┆ 634 ┆ 634 ┆ 634 ┆ 634 ┆ 634 ┆ 634 ┆ 634 ┆ 634 ┆ 635 ┆ 635 ┆ 635 ┆ 635 ┆ 635 ┆ 635 ┆ 635 ┆ 635 ┆ 636 ┆ 636 ┆ 636 ┆ 636 ┆ 636 ┆ 636 ┆ 636 ┆ 636 ┆ 637 ┆ 637 │\n",
       "│ 441 ┆ et  ┆     ┆ 45  ┆ 57  ┆ 69  ┆ 81  ┆ 93  ┆ 05  ┆ 17  ┆ 29  ┆ 41  ┆ 53  ┆ 65  ┆ 77  ┆ 89  ┆ 01  ┆ 13  ┆ 25  ┆ 37  ┆ 49  ┆ 61  ┆ 73  ┆ 85  ┆ 97  ┆ 09  ┆ 21  ┆ 33  ┆ 45  ┆ 57  ┆ 69  ┆ 81  ┆ 93  ┆ 05  ┆ 17  ┆ 29  ┆ 41  ┆ 53  ┆ 65  ┆ 77  ┆ 89  ┆ 01  ┆ 13  ┆ 25  ┆ 37  ┆ 49  ┆ 61  ┆ 73  ┆ 85  ┆ 97  ┆   ┆ 25  ┆ 37  ┆ 49  ┆ 61  ┆ 73  ┆ 85  ┆ 97  ┆ 09  ┆ 21  ┆ 33  ┆ 45  ┆ 57  ┆ 69  ┆ 81  ┆ 93  ┆ 05  ┆ 17  ┆ 29  ┆ 41  ┆ 53  ┆ 65  ┆ 77  ┆ 89  ┆ 01  ┆ 13  ┆ 25  ┆ 37  ┆ 49  ┆ 61  ┆ 73  ┆ 85  ┆ 97  ┆ 09  ┆ 21  ┆ 33  ┆ 45  ┆ 57  ┆ 69  ┆ 81  ┆ 93  ┆ 05  ┆ 17  ┆ 29  ┆ 41  ┆ 53  ┆ 65  ┆ 77  ┆ 89  ┆ 01  ┆ 13  │\n",
       "│ c92 ┆     ┆     ┆     ┆     ┆     ┆     ┆     ┆     ┆     ┆     ┆     ┆     ┆     ┆     ┆     ┆     ┆     ┆     ┆     ┆     ┆     ┆     ┆     ┆     ┆     ┆     ┆     ┆     ┆     ┆     ┆     ┆     ┆     ┆     ┆     ┆     ┆     ┆     ┆     ┆     ┆     ┆     ┆     ┆     ┆     ┆     ┆     ┆     ┆     ┆   ┆     ┆     ┆     ┆     ┆     ┆     ┆     ┆     ┆     ┆     ┆     ┆     ┆     ┆     ┆     ┆     ┆     ┆     ┆     ┆     ┆     ┆     ┆     ┆     ┆     ┆     ┆     ┆     ┆     ┆     ┆     ┆     ┆     ┆     ┆     ┆     ┆     ┆     ┆     ┆     ┆     ┆     ┆     ┆     ┆     ┆     ┆     ┆     ┆     ┆     │\n",
       "│ 5bb ┆     ┆     ┆     ┆     ┆     ┆     ┆     ┆     ┆     ┆     ┆     ┆     ┆     ┆     ┆     ┆     ┆     ┆     ┆     ┆     ┆     ┆     ┆     ┆     ┆     ┆     ┆     ┆     ┆     ┆     ┆     ┆     ┆     ┆     ┆     ┆     ┆     ┆     ┆     ┆     ┆     ┆     ┆     ┆     ┆     ┆     ┆     ┆     ┆     ┆   ┆     ┆     ┆     ┆     ┆     ┆     ┆     ┆     ┆     ┆     ┆     ┆     ┆     ┆     ┆     ┆     ┆     ┆     ┆     ┆     ┆     ┆     ┆     ┆     ┆     ┆     ┆     ┆     ┆     ┆     ┆     ┆     ┆     ┆     ┆     ┆     ┆     ┆     ┆     ┆     ┆     ┆     ┆     ┆     ┆     ┆     ┆     ┆     ┆     ┆     │\n",
       "│ 038 ┆ ons ┆ 5   ┆ 637 ┆ 637 ┆ 637 ┆ 637 ┆ 637 ┆ 637 ┆ 637 ┆ 638 ┆ 638 ┆ 638 ┆ 638 ┆ 638 ┆ 638 ┆ 638 ┆ 638 ┆ 639 ┆ 639 ┆ 639 ┆ 639 ┆ 639 ┆ 639 ┆ 639 ┆ 639 ┆ 640 ┆ 640 ┆ 640 ┆ 640 ┆ 640 ┆ 640 ┆ 640 ┆ 640 ┆ 640 ┆ 641 ┆ 641 ┆ 641 ┆ 641 ┆ 641 ┆ 641 ┆ 641 ┆ 641 ┆ 642 ┆ 642 ┆ 642 ┆ 642 ┆ 642 ┆ 642 ┆ 642 ┆ … ┆ 804 ┆ 804 ┆ 804 ┆ 804 ┆ 804 ┆ 804 ┆ 804 ┆ 804 ┆ 805 ┆ 805 ┆ 805 ┆ 805 ┆ 805 ┆ 805 ┆ 805 ┆ 805 ┆ 805 ┆ 806 ┆ 806 ┆ 806 ┆ 806 ┆ 806 ┆ 806 ┆ 806 ┆ 806 ┆ 807 ┆ 807 ┆ 807 ┆ 807 ┆ 807 ┆ 807 ┆ 807 ┆ 807 ┆ 808 ┆ 808 ┆ 808 ┆ 808 ┆ 808 ┆ 808 ┆ 808 ┆ 808 ┆ 808 ┆ 809 ┆ 809 ┆ 809 ┆ 809 ┆ 809 ┆ 809 ┆ 809 ┆ 809 │\n",
       "│ 441 ┆ et  ┆     ┆ 25  ┆ 37  ┆ 49  ┆ 61  ┆ 73  ┆ 85  ┆ 97  ┆ 09  ┆ 21  ┆ 33  ┆ 45  ┆ 57  ┆ 69  ┆ 81  ┆ 93  ┆ 05  ┆ 17  ┆ 29  ┆ 41  ┆ 53  ┆ 65  ┆ 77  ┆ 89  ┆ 01  ┆ 13  ┆ 25  ┆ 37  ┆ 49  ┆ 61  ┆ 73  ┆ 85  ┆ 97  ┆ 09  ┆ 21  ┆ 33  ┆ 45  ┆ 57  ┆ 69  ┆ 81  ┆ 93  ┆ 05  ┆ 17  ┆ 29  ┆ 41  ┆ 53  ┆ 65  ┆ 77  ┆   ┆ 05  ┆ 17  ┆ 29  ┆ 41  ┆ 53  ┆ 65  ┆ 77  ┆ 89  ┆ 01  ┆ 13  ┆ 25  ┆ 37  ┆ 49  ┆ 61  ┆ 73  ┆ 85  ┆ 97  ┆ 09  ┆ 21  ┆ 33  ┆ 45  ┆ 57  ┆ 69  ┆ 81  ┆ 93  ┆ 05  ┆ 17  ┆ 29  ┆ 41  ┆ 53  ┆ 65  ┆ 77  ┆ 89  ┆ 01  ┆ 13  ┆ 25  ┆ 37  ┆ 49  ┆ 61  ┆ 73  ┆ 85  ┆ 97  ┆ 09  ┆ 21  ┆ 33  ┆ 45  ┆ 57  ┆ 69  ┆ 81  ┆ 93  │\n",
       "│ c92 ┆     ┆     ┆     ┆     ┆     ┆     ┆     ┆     ┆     ┆     ┆     ┆     ┆     ┆     ┆     ┆     ┆     ┆     ┆     ┆     ┆     ┆     ┆     ┆     ┆     ┆     ┆     ┆     ┆     ┆     ┆     ┆     ┆     ┆     ┆     ┆     ┆     ┆     ┆     ┆     ┆     ┆     ┆     ┆     ┆     ┆     ┆     ┆     ┆     ┆   ┆     ┆     ┆     ┆     ┆     ┆     ┆     ┆     ┆     ┆     ┆     ┆     ┆     ┆     ┆     ┆     ┆     ┆     ┆     ┆     ┆     ┆     ┆     ┆     ┆     ┆     ┆     ┆     ┆     ┆     ┆     ┆     ┆     ┆     ┆     ┆     ┆     ┆     ┆     ┆     ┆     ┆     ┆     ┆     ┆     ┆     ┆     ┆     ┆     ┆     │\n",
       "│ 5bb ┆     ┆     ┆     ┆     ┆     ┆     ┆     ┆     ┆     ┆     ┆     ┆     ┆     ┆     ┆     ┆     ┆     ┆     ┆     ┆     ┆     ┆     ┆     ┆     ┆     ┆     ┆     ┆     ┆     ┆     ┆     ┆     ┆     ┆     ┆     ┆     ┆     ┆     ┆     ┆     ┆     ┆     ┆     ┆     ┆     ┆     ┆     ┆     ┆     ┆   ┆     ┆     ┆     ┆     ┆     ┆     ┆     ┆     ┆     ┆     ┆     ┆     ┆     ┆     ┆     ┆     ┆     ┆     ┆     ┆     ┆     ┆     ┆     ┆     ┆     ┆     ┆     ┆     ┆     ┆     ┆     ┆     ┆     ┆     ┆     ┆     ┆     ┆     ┆     ┆     ┆     ┆     ┆     ┆     ┆     ┆     ┆     ┆     ┆     ┆     │\n",
       "└─────┴─────┴─────┴─────┴─────┴─────┴─────┴─────┴─────┴─────┴─────┴─────┴─────┴─────┴─────┴─────┴─────┴─────┴─────┴─────┴─────┴─────┴─────┴─────┴─────┴─────┴─────┴─────┴─────┴─────┴─────┴─────┴─────┴─────┴─────┴─────┴─────┴─────┴─────┴─────┴─────┴─────┴─────┴─────┴─────┴─────┴─────┴─────┴─────┴─────┴───┴─────┴─────┴─────┴─────┴─────┴─────┴─────┴─────┴─────┴─────┴─────┴─────┴─────┴─────┴─────┴─────┴─────┴─────┴─────┴─────┴─────┴─────┴─────┴─────┴─────┴─────┴─────┴─────┴─────┴─────┴─────┴─────┴─────┴─────┴─────┴─────┴─────┴─────┴─────┴─────┴─────┴─────┴─────┴─────┴─────┴─────┴─────┴─────┴─────┴─────┘"
      ]
     },
     "metadata": {},
     "output_type": "display_data"
    },
    {
     "data": {
      "text/html": [
       "<div><style>\n",
       ".dataframe > thead > tr,\n",
       ".dataframe > tbody > tr {\n",
       "  text-align: right;\n",
       "  white-space: pre-wrap;\n",
       "}\n",
       "</style>\n",
       "<small>shape: (5, 1_443)</small><table border=\"1\" class=\"dataframe\"><thead><tr><th>series_id</th><th>kind</th><th>night</th><th>0</th><th>12</th><th>24</th><th>36</th><th>48</th><th>60</th><th>72</th><th>84</th><th>96</th><th>108</th><th>120</th><th>132</th><th>144</th><th>156</th><th>168</th><th>180</th><th>192</th><th>204</th><th>216</th><th>228</th><th>240</th><th>252</th><th>264</th><th>276</th><th>288</th><th>300</th><th>312</th><th>324</th><th>336</th><th>348</th><th>360</th><th>372</th><th>384</th><th>396</th><th>408</th><th>420</th><th>432</th><th>444</th><th>456</th><th>468</th><th>480</th><th>492</th><th>504</th><th>516</th><th>528</th><th>540</th><th>552</th><th>&hellip;</th><th>16680</th><th>16692</th><th>16704</th><th>16716</th><th>16728</th><th>16740</th><th>16752</th><th>16764</th><th>16776</th><th>16788</th><th>16800</th><th>16812</th><th>16824</th><th>16836</th><th>16848</th><th>16860</th><th>16872</th><th>16884</th><th>16896</th><th>16908</th><th>16920</th><th>16932</th><th>16944</th><th>16956</th><th>16968</th><th>16980</th><th>16992</th><th>17004</th><th>17016</th><th>17028</th><th>17040</th><th>17052</th><th>17064</th><th>17076</th><th>17088</th><th>17100</th><th>17112</th><th>17124</th><th>17136</th><th>17148</th><th>17160</th><th>17172</th><th>17184</th><th>17196</th><th>17208</th><th>17220</th><th>17232</th><th>17244</th><th>17256</th><th>17268</th></tr><tr><td>str</td><td>str</td><td>u32</td><td>u32</td><td>u32</td><td>u32</td><td>u32</td><td>u32</td><td>u32</td><td>u32</td><td>u32</td><td>u32</td><td>u32</td><td>u32</td><td>u32</td><td>u32</td><td>u32</td><td>u32</td><td>u32</td><td>u32</td><td>u32</td><td>u32</td><td>u32</td><td>u32</td><td>u32</td><td>u32</td><td>u32</td><td>u32</td><td>u32</td><td>u32</td><td>u32</td><td>u32</td><td>u32</td><td>u32</td><td>u32</td><td>u32</td><td>u32</td><td>u32</td><td>u32</td><td>u32</td><td>u32</td><td>u32</td><td>u32</td><td>u32</td><td>u32</td><td>u32</td><td>u32</td><td>u32</td><td>u32</td><td>u32</td><td>&hellip;</td><td>u32</td><td>u32</td><td>u32</td><td>u32</td><td>u32</td><td>u32</td><td>u32</td><td>u32</td><td>u32</td><td>u32</td><td>u32</td><td>u32</td><td>u32</td><td>u32</td><td>u32</td><td>u32</td><td>u32</td><td>u32</td><td>u32</td><td>u32</td><td>u32</td><td>u32</td><td>u32</td><td>u32</td><td>u32</td><td>u32</td><td>u32</td><td>u32</td><td>u32</td><td>u32</td><td>u32</td><td>u32</td><td>u32</td><td>u32</td><td>u32</td><td>u32</td><td>u32</td><td>u32</td><td>u32</td><td>u32</td><td>u32</td><td>u32</td><td>u32</td><td>u32</td><td>u32</td><td>u32</td><td>u32</td><td>u32</td><td>u32</td><td>u32</td></tr></thead><tbody><tr><td>&quot;fe90110788d2&quot;</td><td>&quot;wakeup&quot;</td><td>31</td><td>515165</td><td>515177</td><td>515189</td><td>515201</td><td>515213</td><td>515225</td><td>515237</td><td>515249</td><td>515261</td><td>515273</td><td>515285</td><td>515297</td><td>515309</td><td>515321</td><td>515333</td><td>515345</td><td>515357</td><td>515369</td><td>515381</td><td>515393</td><td>515405</td><td>515417</td><td>515429</td><td>515441</td><td>515453</td><td>515465</td><td>515477</td><td>515489</td><td>515501</td><td>515513</td><td>515525</td><td>515537</td><td>515549</td><td>515561</td><td>515573</td><td>515585</td><td>515597</td><td>515609</td><td>515621</td><td>515633</td><td>515645</td><td>515657</td><td>515669</td><td>515681</td><td>515693</td><td>515705</td><td>515717</td><td>&hellip;</td><td>531845</td><td>531857</td><td>531869</td><td>531881</td><td>531893</td><td>531905</td><td>531917</td><td>531929</td><td>531941</td><td>531953</td><td>531965</td><td>531977</td><td>531989</td><td>532001</td><td>532013</td><td>532025</td><td>532037</td><td>532049</td><td>532061</td><td>532073</td><td>532085</td><td>532097</td><td>532109</td><td>532121</td><td>532133</td><td>532145</td><td>532157</td><td>532169</td><td>532181</td><td>532193</td><td>532205</td><td>532217</td><td>532229</td><td>532241</td><td>532253</td><td>532265</td><td>532277</td><td>532289</td><td>532301</td><td>532313</td><td>532325</td><td>532337</td><td>532349</td><td>532361</td><td>532373</td><td>532385</td><td>532397</td><td>532409</td><td>532421</td><td>532433</td></tr><tr><td>&quot;fe90110788d2&quot;</td><td>&quot;wakeup&quot;</td><td>32</td><td>532445</td><td>532457</td><td>532469</td><td>532481</td><td>532493</td><td>532505</td><td>532517</td><td>532529</td><td>532541</td><td>532553</td><td>532565</td><td>532577</td><td>532589</td><td>532601</td><td>532613</td><td>532625</td><td>532637</td><td>532649</td><td>532661</td><td>532673</td><td>532685</td><td>532697</td><td>532709</td><td>532721</td><td>532733</td><td>532745</td><td>532757</td><td>532769</td><td>532781</td><td>532793</td><td>532805</td><td>532817</td><td>532829</td><td>532841</td><td>532853</td><td>532865</td><td>532877</td><td>532889</td><td>532901</td><td>532913</td><td>532925</td><td>532937</td><td>532949</td><td>532961</td><td>532973</td><td>532985</td><td>532997</td><td>&hellip;</td><td>549125</td><td>549137</td><td>549149</td><td>549161</td><td>549173</td><td>549185</td><td>549197</td><td>549209</td><td>549221</td><td>549233</td><td>549245</td><td>549257</td><td>549269</td><td>549281</td><td>549293</td><td>549305</td><td>549317</td><td>549329</td><td>549341</td><td>549353</td><td>549365</td><td>549377</td><td>549389</td><td>549401</td><td>549413</td><td>549425</td><td>549437</td><td>549449</td><td>549461</td><td>549473</td><td>549485</td><td>549497</td><td>549509</td><td>549521</td><td>549533</td><td>549545</td><td>549557</td><td>549569</td><td>549581</td><td>549593</td><td>549605</td><td>549617</td><td>549629</td><td>549641</td><td>549653</td><td>549665</td><td>549677</td><td>549689</td><td>549701</td><td>549713</td></tr><tr><td>&quot;fe90110788d2&quot;</td><td>&quot;wakeup&quot;</td><td>33</td><td>549725</td><td>549737</td><td>549749</td><td>549761</td><td>549773</td><td>549785</td><td>549797</td><td>549809</td><td>549821</td><td>549833</td><td>549845</td><td>549857</td><td>549869</td><td>549881</td><td>549893</td><td>549905</td><td>549917</td><td>549929</td><td>549941</td><td>549953</td><td>549965</td><td>549977</td><td>549989</td><td>550001</td><td>550013</td><td>550025</td><td>550037</td><td>550049</td><td>550061</td><td>550073</td><td>550085</td><td>550097</td><td>550109</td><td>550121</td><td>550133</td><td>550145</td><td>550157</td><td>550169</td><td>550181</td><td>550193</td><td>550205</td><td>550217</td><td>550229</td><td>550241</td><td>550253</td><td>550265</td><td>550277</td><td>&hellip;</td><td>566405</td><td>566417</td><td>566429</td><td>566441</td><td>566453</td><td>566465</td><td>566477</td><td>566489</td><td>566501</td><td>566513</td><td>566525</td><td>566537</td><td>566549</td><td>566561</td><td>566573</td><td>566585</td><td>566597</td><td>566609</td><td>566621</td><td>566633</td><td>566645</td><td>566657</td><td>566669</td><td>566681</td><td>566693</td><td>566705</td><td>566717</td><td>566729</td><td>566741</td><td>566753</td><td>566765</td><td>566777</td><td>566789</td><td>566801</td><td>566813</td><td>566825</td><td>566837</td><td>566849</td><td>566861</td><td>566873</td><td>566885</td><td>566897</td><td>566909</td><td>566921</td><td>566933</td><td>566945</td><td>566957</td><td>566969</td><td>566981</td><td>566993</td></tr><tr><td>&quot;fe90110788d2&quot;</td><td>&quot;wakeup&quot;</td><td>34</td><td>567005</td><td>567017</td><td>567029</td><td>567041</td><td>567053</td><td>567065</td><td>567077</td><td>567089</td><td>567101</td><td>567113</td><td>567125</td><td>567137</td><td>567149</td><td>567161</td><td>567173</td><td>567185</td><td>567197</td><td>567209</td><td>567221</td><td>567233</td><td>567245</td><td>567257</td><td>567269</td><td>567281</td><td>567293</td><td>567305</td><td>567317</td><td>567329</td><td>567341</td><td>567353</td><td>567365</td><td>567377</td><td>567389</td><td>567401</td><td>567413</td><td>567425</td><td>567437</td><td>567449</td><td>567461</td><td>567473</td><td>567485</td><td>567497</td><td>567509</td><td>567521</td><td>567533</td><td>567545</td><td>567557</td><td>&hellip;</td><td>583685</td><td>583697</td><td>583709</td><td>583721</td><td>583733</td><td>583745</td><td>583757</td><td>583769</td><td>583781</td><td>583793</td><td>583805</td><td>583817</td><td>583829</td><td>583841</td><td>583853</td><td>583865</td><td>583877</td><td>583889</td><td>583901</td><td>583913</td><td>583925</td><td>583937</td><td>583949</td><td>583961</td><td>583973</td><td>583985</td><td>583997</td><td>584009</td><td>584021</td><td>584033</td><td>584045</td><td>584057</td><td>584069</td><td>584081</td><td>584093</td><td>584105</td><td>584117</td><td>584129</td><td>584141</td><td>584153</td><td>584165</td><td>584177</td><td>584189</td><td>584201</td><td>584213</td><td>584225</td><td>584237</td><td>584249</td><td>584261</td><td>584273</td></tr><tr><td>&quot;fe90110788d2&quot;</td><td>&quot;wakeup&quot;</td><td>35</td><td>584285</td><td>584297</td><td>584309</td><td>584321</td><td>584333</td><td>584345</td><td>584357</td><td>584369</td><td>584381</td><td>584393</td><td>584405</td><td>584417</td><td>584429</td><td>584441</td><td>584453</td><td>584465</td><td>584477</td><td>584489</td><td>584501</td><td>584513</td><td>584525</td><td>584537</td><td>584549</td><td>584561</td><td>584573</td><td>584585</td><td>584597</td><td>584609</td><td>584621</td><td>584633</td><td>584645</td><td>584657</td><td>584669</td><td>584681</td><td>584693</td><td>584705</td><td>584717</td><td>584729</td><td>584741</td><td>584753</td><td>584765</td><td>584777</td><td>584789</td><td>584801</td><td>584813</td><td>584825</td><td>584837</td><td>&hellip;</td><td>0</td><td>0</td><td>0</td><td>0</td><td>0</td><td>0</td><td>0</td><td>0</td><td>0</td><td>0</td><td>0</td><td>0</td><td>0</td><td>0</td><td>0</td><td>0</td><td>0</td><td>0</td><td>0</td><td>0</td><td>0</td><td>0</td><td>0</td><td>0</td><td>0</td><td>0</td><td>0</td><td>0</td><td>0</td><td>0</td><td>0</td><td>0</td><td>0</td><td>0</td><td>0</td><td>0</td><td>0</td><td>0</td><td>0</td><td>0</td><td>0</td><td>0</td><td>0</td><td>0</td><td>0</td><td>0</td><td>0</td><td>0</td><td>0</td><td>0</td></tr></tbody></table></div>"
      ],
      "text/plain": [
       "shape: (5, 1_443)\n",
       "┌─────┬─────┬─────┬─────┬─────┬─────┬─────┬─────┬─────┬─────┬─────┬─────┬─────┬─────┬─────┬─────┬─────┬─────┬─────┬─────┬─────┬─────┬─────┬─────┬─────┬─────┬─────┬─────┬─────┬─────┬─────┬─────┬─────┬─────┬─────┬─────┬─────┬─────┬─────┬─────┬─────┬─────┬─────┬─────┬─────┬─────┬─────┬─────┬─────┬─────┬───┬─────┬─────┬─────┬─────┬─────┬─────┬─────┬─────┬─────┬─────┬─────┬─────┬─────┬─────┬─────┬─────┬─────┬─────┬─────┬─────┬─────┬─────┬─────┬─────┬─────┬─────┬─────┬─────┬─────┬─────┬─────┬─────┬─────┬─────┬─────┬─────┬─────┬─────┬─────┬─────┬─────┬─────┬─────┬─────┬─────┬─────┬─────┬─────┬─────┬─────┐\n",
       "│ ser ┆ kin ┆ nig ┆ 0   ┆ 12  ┆ 24  ┆ 36  ┆ 48  ┆ 60  ┆ 72  ┆ 84  ┆ 96  ┆ 108 ┆ 120 ┆ 132 ┆ 144 ┆ 156 ┆ 168 ┆ 180 ┆ 192 ┆ 204 ┆ 216 ┆ 228 ┆ 240 ┆ 252 ┆ 264 ┆ 276 ┆ 288 ┆ 300 ┆ 312 ┆ 324 ┆ 336 ┆ 348 ┆ 360 ┆ 372 ┆ 384 ┆ 396 ┆ 408 ┆ 420 ┆ 432 ┆ 444 ┆ 456 ┆ 468 ┆ 480 ┆ 492 ┆ 504 ┆ 516 ┆ 528 ┆ 540 ┆ 552 ┆ … ┆ 166 ┆ 166 ┆ 167 ┆ 167 ┆ 167 ┆ 167 ┆ 167 ┆ 167 ┆ 167 ┆ 167 ┆ 168 ┆ 168 ┆ 168 ┆ 168 ┆ 168 ┆ 168 ┆ 168 ┆ 168 ┆ 168 ┆ 169 ┆ 169 ┆ 169 ┆ 169 ┆ 169 ┆ 169 ┆ 169 ┆ 169 ┆ 170 ┆ 170 ┆ 170 ┆ 170 ┆ 170 ┆ 170 ┆ 170 ┆ 170 ┆ 171 ┆ 171 ┆ 171 ┆ 171 ┆ 171 ┆ 171 ┆ 171 ┆ 171 ┆ 171 ┆ 172 ┆ 172 ┆ 172 ┆ 172 ┆ 172 ┆ 172 │\n",
       "│ ies ┆ d   ┆ ht  ┆ --- ┆ --- ┆ --- ┆ --- ┆ --- ┆ --- ┆ --- ┆ --- ┆ --- ┆ --- ┆ --- ┆ --- ┆ --- ┆ --- ┆ --- ┆ --- ┆ --- ┆ --- ┆ --- ┆ --- ┆ --- ┆ --- ┆ --- ┆ --- ┆ --- ┆ --- ┆ --- ┆ --- ┆ --- ┆ --- ┆ --- ┆ --- ┆ --- ┆ --- ┆ --- ┆ --- ┆ --- ┆ --- ┆ --- ┆ --- ┆ --- ┆ --- ┆ --- ┆ --- ┆ --- ┆ --- ┆ --- ┆   ┆ 80  ┆ 92  ┆ 04  ┆ 16  ┆ 28  ┆ 40  ┆ 52  ┆ 64  ┆ 76  ┆ 88  ┆ 00  ┆ 12  ┆ 24  ┆ 36  ┆ 48  ┆ 60  ┆ 72  ┆ 84  ┆ 96  ┆ 08  ┆ 20  ┆ 32  ┆ 44  ┆ 56  ┆ 68  ┆ 80  ┆ 92  ┆ 04  ┆ 16  ┆ 28  ┆ 40  ┆ 52  ┆ 64  ┆ 76  ┆ 88  ┆ 00  ┆ 12  ┆ 24  ┆ 36  ┆ 48  ┆ 60  ┆ 72  ┆ 84  ┆ 96  ┆ 08  ┆ 20  ┆ 32  ┆ 44  ┆ 56  ┆ 68  │\n",
       "│ _id ┆ --- ┆ --- ┆ u32 ┆ u32 ┆ u32 ┆ u32 ┆ u32 ┆ u32 ┆ u32 ┆ u32 ┆ u32 ┆ u32 ┆ u32 ┆ u32 ┆ u32 ┆ u32 ┆ u32 ┆ u32 ┆ u32 ┆ u32 ┆ u32 ┆ u32 ┆ u32 ┆ u32 ┆ u32 ┆ u32 ┆ u32 ┆ u32 ┆ u32 ┆ u32 ┆ u32 ┆ u32 ┆ u32 ┆ u32 ┆ u32 ┆ u32 ┆ u32 ┆ u32 ┆ u32 ┆ u32 ┆ u32 ┆ u32 ┆ u32 ┆ u32 ┆ u32 ┆ u32 ┆ u32 ┆ u32 ┆ u32 ┆   ┆ --- ┆ --- ┆ --- ┆ --- ┆ --- ┆ --- ┆ --- ┆ --- ┆ --- ┆ --- ┆ --- ┆ --- ┆ --- ┆ --- ┆ --- ┆ --- ┆ --- ┆ --- ┆ --- ┆ --- ┆ --- ┆ --- ┆ --- ┆ --- ┆ --- ┆ --- ┆ --- ┆ --- ┆ --- ┆ --- ┆ --- ┆ --- ┆ --- ┆ --- ┆ --- ┆ --- ┆ --- ┆ --- ┆ --- ┆ --- ┆ --- ┆ --- ┆ --- ┆ --- ┆ --- ┆ --- ┆ --- ┆ --- ┆ --- ┆ --- │\n",
       "│ --- ┆ str ┆ u32 ┆     ┆     ┆     ┆     ┆     ┆     ┆     ┆     ┆     ┆     ┆     ┆     ┆     ┆     ┆     ┆     ┆     ┆     ┆     ┆     ┆     ┆     ┆     ┆     ┆     ┆     ┆     ┆     ┆     ┆     ┆     ┆     ┆     ┆     ┆     ┆     ┆     ┆     ┆     ┆     ┆     ┆     ┆     ┆     ┆     ┆     ┆     ┆   ┆ u32 ┆ u32 ┆ u32 ┆ u32 ┆ u32 ┆ u32 ┆ u32 ┆ u32 ┆ u32 ┆ u32 ┆ u32 ┆ u32 ┆ u32 ┆ u32 ┆ u32 ┆ u32 ┆ u32 ┆ u32 ┆ u32 ┆ u32 ┆ u32 ┆ u32 ┆ u32 ┆ u32 ┆ u32 ┆ u32 ┆ u32 ┆ u32 ┆ u32 ┆ u32 ┆ u32 ┆ u32 ┆ u32 ┆ u32 ┆ u32 ┆ u32 ┆ u32 ┆ u32 ┆ u32 ┆ u32 ┆ u32 ┆ u32 ┆ u32 ┆ u32 ┆ u32 ┆ u32 ┆ u32 ┆ u32 ┆ u32 ┆ u32 │\n",
       "│ str ┆     ┆     ┆     ┆     ┆     ┆     ┆     ┆     ┆     ┆     ┆     ┆     ┆     ┆     ┆     ┆     ┆     ┆     ┆     ┆     ┆     ┆     ┆     ┆     ┆     ┆     ┆     ┆     ┆     ┆     ┆     ┆     ┆     ┆     ┆     ┆     ┆     ┆     ┆     ┆     ┆     ┆     ┆     ┆     ┆     ┆     ┆     ┆     ┆     ┆   ┆     ┆     ┆     ┆     ┆     ┆     ┆     ┆     ┆     ┆     ┆     ┆     ┆     ┆     ┆     ┆     ┆     ┆     ┆     ┆     ┆     ┆     ┆     ┆     ┆     ┆     ┆     ┆     ┆     ┆     ┆     ┆     ┆     ┆     ┆     ┆     ┆     ┆     ┆     ┆     ┆     ┆     ┆     ┆     ┆     ┆     ┆     ┆     ┆     ┆     │\n",
       "╞═════╪═════╪═════╪═════╪═════╪═════╪═════╪═════╪═════╪═════╪═════╪═════╪═════╪═════╪═════╪═════╪═════╪═════╪═════╪═════╪═════╪═════╪═════╪═════╪═════╪═════╪═════╪═════╪═════╪═════╪═════╪═════╪═════╪═════╪═════╪═════╪═════╪═════╪═════╪═════╪═════╪═════╪═════╪═════╪═════╪═════╪═════╪═════╪═════╪═════╪═══╪═════╪═════╪═════╪═════╪═════╪═════╪═════╪═════╪═════╪═════╪═════╪═════╪═════╪═════╪═════╪═════╪═════╪═════╪═════╪═════╪═════╪═════╪═════╪═════╪═════╪═════╪═════╪═════╪═════╪═════╪═════╪═════╪═════╪═════╪═════╪═════╪═════╪═════╪═════╪═════╪═════╪═════╪═════╪═════╪═════╪═════╪═════╪═════╪═════╪═════╡\n",
       "│ fe9 ┆ wak ┆ 31  ┆ 515 ┆ 515 ┆ 515 ┆ 515 ┆ 515 ┆ 515 ┆ 515 ┆ 515 ┆ 515 ┆ 515 ┆ 515 ┆ 515 ┆ 515 ┆ 515 ┆ 515 ┆ 515 ┆ 515 ┆ 515 ┆ 515 ┆ 515 ┆ 515 ┆ 515 ┆ 515 ┆ 515 ┆ 515 ┆ 515 ┆ 515 ┆ 515 ┆ 515 ┆ 515 ┆ 515 ┆ 515 ┆ 515 ┆ 515 ┆ 515 ┆ 515 ┆ 515 ┆ 515 ┆ 515 ┆ 515 ┆ 515 ┆ 515 ┆ 515 ┆ 515 ┆ 515 ┆ 515 ┆ 515 ┆ … ┆ 531 ┆ 531 ┆ 531 ┆ 531 ┆ 531 ┆ 531 ┆ 531 ┆ 531 ┆ 531 ┆ 531 ┆ 531 ┆ 531 ┆ 531 ┆ 532 ┆ 532 ┆ 532 ┆ 532 ┆ 532 ┆ 532 ┆ 532 ┆ 532 ┆ 532 ┆ 532 ┆ 532 ┆ 532 ┆ 532 ┆ 532 ┆ 532 ┆ 532 ┆ 532 ┆ 532 ┆ 532 ┆ 532 ┆ 532 ┆ 532 ┆ 532 ┆ 532 ┆ 532 ┆ 532 ┆ 532 ┆ 532 ┆ 532 ┆ 532 ┆ 532 ┆ 532 ┆ 532 ┆ 532 ┆ 532 ┆ 532 ┆ 532 │\n",
       "│ 011 ┆ eup ┆     ┆ 165 ┆ 177 ┆ 189 ┆ 201 ┆ 213 ┆ 225 ┆ 237 ┆ 249 ┆ 261 ┆ 273 ┆ 285 ┆ 297 ┆ 309 ┆ 321 ┆ 333 ┆ 345 ┆ 357 ┆ 369 ┆ 381 ┆ 393 ┆ 405 ┆ 417 ┆ 429 ┆ 441 ┆ 453 ┆ 465 ┆ 477 ┆ 489 ┆ 501 ┆ 513 ┆ 525 ┆ 537 ┆ 549 ┆ 561 ┆ 573 ┆ 585 ┆ 597 ┆ 609 ┆ 621 ┆ 633 ┆ 645 ┆ 657 ┆ 669 ┆ 681 ┆ 693 ┆ 705 ┆ 717 ┆   ┆ 845 ┆ 857 ┆ 869 ┆ 881 ┆ 893 ┆ 905 ┆ 917 ┆ 929 ┆ 941 ┆ 953 ┆ 965 ┆ 977 ┆ 989 ┆ 001 ┆ 013 ┆ 025 ┆ 037 ┆ 049 ┆ 061 ┆ 073 ┆ 085 ┆ 097 ┆ 109 ┆ 121 ┆ 133 ┆ 145 ┆ 157 ┆ 169 ┆ 181 ┆ 193 ┆ 205 ┆ 217 ┆ 229 ┆ 241 ┆ 253 ┆ 265 ┆ 277 ┆ 289 ┆ 301 ┆ 313 ┆ 325 ┆ 337 ┆ 349 ┆ 361 ┆ 373 ┆ 385 ┆ 397 ┆ 409 ┆ 421 ┆ 433 │\n",
       "│ 078 ┆     ┆     ┆     ┆     ┆     ┆     ┆     ┆     ┆     ┆     ┆     ┆     ┆     ┆     ┆     ┆     ┆     ┆     ┆     ┆     ┆     ┆     ┆     ┆     ┆     ┆     ┆     ┆     ┆     ┆     ┆     ┆     ┆     ┆     ┆     ┆     ┆     ┆     ┆     ┆     ┆     ┆     ┆     ┆     ┆     ┆     ┆     ┆     ┆     ┆   ┆     ┆     ┆     ┆     ┆     ┆     ┆     ┆     ┆     ┆     ┆     ┆     ┆     ┆     ┆     ┆     ┆     ┆     ┆     ┆     ┆     ┆     ┆     ┆     ┆     ┆     ┆     ┆     ┆     ┆     ┆     ┆     ┆     ┆     ┆     ┆     ┆     ┆     ┆     ┆     ┆     ┆     ┆     ┆     ┆     ┆     ┆     ┆     ┆     ┆     │\n",
       "│ 8d2 ┆     ┆     ┆     ┆     ┆     ┆     ┆     ┆     ┆     ┆     ┆     ┆     ┆     ┆     ┆     ┆     ┆     ┆     ┆     ┆     ┆     ┆     ┆     ┆     ┆     ┆     ┆     ┆     ┆     ┆     ┆     ┆     ┆     ┆     ┆     ┆     ┆     ┆     ┆     ┆     ┆     ┆     ┆     ┆     ┆     ┆     ┆     ┆     ┆     ┆   ┆     ┆     ┆     ┆     ┆     ┆     ┆     ┆     ┆     ┆     ┆     ┆     ┆     ┆     ┆     ┆     ┆     ┆     ┆     ┆     ┆     ┆     ┆     ┆     ┆     ┆     ┆     ┆     ┆     ┆     ┆     ┆     ┆     ┆     ┆     ┆     ┆     ┆     ┆     ┆     ┆     ┆     ┆     ┆     ┆     ┆     ┆     ┆     ┆     ┆     │\n",
       "│ fe9 ┆ wak ┆ 32  ┆ 532 ┆ 532 ┆ 532 ┆ 532 ┆ 532 ┆ 532 ┆ 532 ┆ 532 ┆ 532 ┆ 532 ┆ 532 ┆ 532 ┆ 532 ┆ 532 ┆ 532 ┆ 532 ┆ 532 ┆ 532 ┆ 532 ┆ 532 ┆ 532 ┆ 532 ┆ 532 ┆ 532 ┆ 532 ┆ 532 ┆ 532 ┆ 532 ┆ 532 ┆ 532 ┆ 532 ┆ 532 ┆ 532 ┆ 532 ┆ 532 ┆ 532 ┆ 532 ┆ 532 ┆ 532 ┆ 532 ┆ 532 ┆ 532 ┆ 532 ┆ 532 ┆ 532 ┆ 532 ┆ 532 ┆ … ┆ 549 ┆ 549 ┆ 549 ┆ 549 ┆ 549 ┆ 549 ┆ 549 ┆ 549 ┆ 549 ┆ 549 ┆ 549 ┆ 549 ┆ 549 ┆ 549 ┆ 549 ┆ 549 ┆ 549 ┆ 549 ┆ 549 ┆ 549 ┆ 549 ┆ 549 ┆ 549 ┆ 549 ┆ 549 ┆ 549 ┆ 549 ┆ 549 ┆ 549 ┆ 549 ┆ 549 ┆ 549 ┆ 549 ┆ 549 ┆ 549 ┆ 549 ┆ 549 ┆ 549 ┆ 549 ┆ 549 ┆ 549 ┆ 549 ┆ 549 ┆ 549 ┆ 549 ┆ 549 ┆ 549 ┆ 549 ┆ 549 ┆ 549 │\n",
       "│ 011 ┆ eup ┆     ┆ 445 ┆ 457 ┆ 469 ┆ 481 ┆ 493 ┆ 505 ┆ 517 ┆ 529 ┆ 541 ┆ 553 ┆ 565 ┆ 577 ┆ 589 ┆ 601 ┆ 613 ┆ 625 ┆ 637 ┆ 649 ┆ 661 ┆ 673 ┆ 685 ┆ 697 ┆ 709 ┆ 721 ┆ 733 ┆ 745 ┆ 757 ┆ 769 ┆ 781 ┆ 793 ┆ 805 ┆ 817 ┆ 829 ┆ 841 ┆ 853 ┆ 865 ┆ 877 ┆ 889 ┆ 901 ┆ 913 ┆ 925 ┆ 937 ┆ 949 ┆ 961 ┆ 973 ┆ 985 ┆ 997 ┆   ┆ 125 ┆ 137 ┆ 149 ┆ 161 ┆ 173 ┆ 185 ┆ 197 ┆ 209 ┆ 221 ┆ 233 ┆ 245 ┆ 257 ┆ 269 ┆ 281 ┆ 293 ┆ 305 ┆ 317 ┆ 329 ┆ 341 ┆ 353 ┆ 365 ┆ 377 ┆ 389 ┆ 401 ┆ 413 ┆ 425 ┆ 437 ┆ 449 ┆ 461 ┆ 473 ┆ 485 ┆ 497 ┆ 509 ┆ 521 ┆ 533 ┆ 545 ┆ 557 ┆ 569 ┆ 581 ┆ 593 ┆ 605 ┆ 617 ┆ 629 ┆ 641 ┆ 653 ┆ 665 ┆ 677 ┆ 689 ┆ 701 ┆ 713 │\n",
       "│ 078 ┆     ┆     ┆     ┆     ┆     ┆     ┆     ┆     ┆     ┆     ┆     ┆     ┆     ┆     ┆     ┆     ┆     ┆     ┆     ┆     ┆     ┆     ┆     ┆     ┆     ┆     ┆     ┆     ┆     ┆     ┆     ┆     ┆     ┆     ┆     ┆     ┆     ┆     ┆     ┆     ┆     ┆     ┆     ┆     ┆     ┆     ┆     ┆     ┆     ┆   ┆     ┆     ┆     ┆     ┆     ┆     ┆     ┆     ┆     ┆     ┆     ┆     ┆     ┆     ┆     ┆     ┆     ┆     ┆     ┆     ┆     ┆     ┆     ┆     ┆     ┆     ┆     ┆     ┆     ┆     ┆     ┆     ┆     ┆     ┆     ┆     ┆     ┆     ┆     ┆     ┆     ┆     ┆     ┆     ┆     ┆     ┆     ┆     ┆     ┆     │\n",
       "│ 8d2 ┆     ┆     ┆     ┆     ┆     ┆     ┆     ┆     ┆     ┆     ┆     ┆     ┆     ┆     ┆     ┆     ┆     ┆     ┆     ┆     ┆     ┆     ┆     ┆     ┆     ┆     ┆     ┆     ┆     ┆     ┆     ┆     ┆     ┆     ┆     ┆     ┆     ┆     ┆     ┆     ┆     ┆     ┆     ┆     ┆     ┆     ┆     ┆     ┆     ┆   ┆     ┆     ┆     ┆     ┆     ┆     ┆     ┆     ┆     ┆     ┆     ┆     ┆     ┆     ┆     ┆     ┆     ┆     ┆     ┆     ┆     ┆     ┆     ┆     ┆     ┆     ┆     ┆     ┆     ┆     ┆     ┆     ┆     ┆     ┆     ┆     ┆     ┆     ┆     ┆     ┆     ┆     ┆     ┆     ┆     ┆     ┆     ┆     ┆     ┆     │\n",
       "│ fe9 ┆ wak ┆ 33  ┆ 549 ┆ 549 ┆ 549 ┆ 549 ┆ 549 ┆ 549 ┆ 549 ┆ 549 ┆ 549 ┆ 549 ┆ 549 ┆ 549 ┆ 549 ┆ 549 ┆ 549 ┆ 549 ┆ 549 ┆ 549 ┆ 549 ┆ 549 ┆ 549 ┆ 549 ┆ 549 ┆ 550 ┆ 550 ┆ 550 ┆ 550 ┆ 550 ┆ 550 ┆ 550 ┆ 550 ┆ 550 ┆ 550 ┆ 550 ┆ 550 ┆ 550 ┆ 550 ┆ 550 ┆ 550 ┆ 550 ┆ 550 ┆ 550 ┆ 550 ┆ 550 ┆ 550 ┆ 550 ┆ 550 ┆ … ┆ 566 ┆ 566 ┆ 566 ┆ 566 ┆ 566 ┆ 566 ┆ 566 ┆ 566 ┆ 566 ┆ 566 ┆ 566 ┆ 566 ┆ 566 ┆ 566 ┆ 566 ┆ 566 ┆ 566 ┆ 566 ┆ 566 ┆ 566 ┆ 566 ┆ 566 ┆ 566 ┆ 566 ┆ 566 ┆ 566 ┆ 566 ┆ 566 ┆ 566 ┆ 566 ┆ 566 ┆ 566 ┆ 566 ┆ 566 ┆ 566 ┆ 566 ┆ 566 ┆ 566 ┆ 566 ┆ 566 ┆ 566 ┆ 566 ┆ 566 ┆ 566 ┆ 566 ┆ 566 ┆ 566 ┆ 566 ┆ 566 ┆ 566 │\n",
       "│ 011 ┆ eup ┆     ┆ 725 ┆ 737 ┆ 749 ┆ 761 ┆ 773 ┆ 785 ┆ 797 ┆ 809 ┆ 821 ┆ 833 ┆ 845 ┆ 857 ┆ 869 ┆ 881 ┆ 893 ┆ 905 ┆ 917 ┆ 929 ┆ 941 ┆ 953 ┆ 965 ┆ 977 ┆ 989 ┆ 001 ┆ 013 ┆ 025 ┆ 037 ┆ 049 ┆ 061 ┆ 073 ┆ 085 ┆ 097 ┆ 109 ┆ 121 ┆ 133 ┆ 145 ┆ 157 ┆ 169 ┆ 181 ┆ 193 ┆ 205 ┆ 217 ┆ 229 ┆ 241 ┆ 253 ┆ 265 ┆ 277 ┆   ┆ 405 ┆ 417 ┆ 429 ┆ 441 ┆ 453 ┆ 465 ┆ 477 ┆ 489 ┆ 501 ┆ 513 ┆ 525 ┆ 537 ┆ 549 ┆ 561 ┆ 573 ┆ 585 ┆ 597 ┆ 609 ┆ 621 ┆ 633 ┆ 645 ┆ 657 ┆ 669 ┆ 681 ┆ 693 ┆ 705 ┆ 717 ┆ 729 ┆ 741 ┆ 753 ┆ 765 ┆ 777 ┆ 789 ┆ 801 ┆ 813 ┆ 825 ┆ 837 ┆ 849 ┆ 861 ┆ 873 ┆ 885 ┆ 897 ┆ 909 ┆ 921 ┆ 933 ┆ 945 ┆ 957 ┆ 969 ┆ 981 ┆ 993 │\n",
       "│ 078 ┆     ┆     ┆     ┆     ┆     ┆     ┆     ┆     ┆     ┆     ┆     ┆     ┆     ┆     ┆     ┆     ┆     ┆     ┆     ┆     ┆     ┆     ┆     ┆     ┆     ┆     ┆     ┆     ┆     ┆     ┆     ┆     ┆     ┆     ┆     ┆     ┆     ┆     ┆     ┆     ┆     ┆     ┆     ┆     ┆     ┆     ┆     ┆     ┆     ┆   ┆     ┆     ┆     ┆     ┆     ┆     ┆     ┆     ┆     ┆     ┆     ┆     ┆     ┆     ┆     ┆     ┆     ┆     ┆     ┆     ┆     ┆     ┆     ┆     ┆     ┆     ┆     ┆     ┆     ┆     ┆     ┆     ┆     ┆     ┆     ┆     ┆     ┆     ┆     ┆     ┆     ┆     ┆     ┆     ┆     ┆     ┆     ┆     ┆     ┆     │\n",
       "│ 8d2 ┆     ┆     ┆     ┆     ┆     ┆     ┆     ┆     ┆     ┆     ┆     ┆     ┆     ┆     ┆     ┆     ┆     ┆     ┆     ┆     ┆     ┆     ┆     ┆     ┆     ┆     ┆     ┆     ┆     ┆     ┆     ┆     ┆     ┆     ┆     ┆     ┆     ┆     ┆     ┆     ┆     ┆     ┆     ┆     ┆     ┆     ┆     ┆     ┆     ┆   ┆     ┆     ┆     ┆     ┆     ┆     ┆     ┆     ┆     ┆     ┆     ┆     ┆     ┆     ┆     ┆     ┆     ┆     ┆     ┆     ┆     ┆     ┆     ┆     ┆     ┆     ┆     ┆     ┆     ┆     ┆     ┆     ┆     ┆     ┆     ┆     ┆     ┆     ┆     ┆     ┆     ┆     ┆     ┆     ┆     ┆     ┆     ┆     ┆     ┆     │\n",
       "│ fe9 ┆ wak ┆ 34  ┆ 567 ┆ 567 ┆ 567 ┆ 567 ┆ 567 ┆ 567 ┆ 567 ┆ 567 ┆ 567 ┆ 567 ┆ 567 ┆ 567 ┆ 567 ┆ 567 ┆ 567 ┆ 567 ┆ 567 ┆ 567 ┆ 567 ┆ 567 ┆ 567 ┆ 567 ┆ 567 ┆ 567 ┆ 567 ┆ 567 ┆ 567 ┆ 567 ┆ 567 ┆ 567 ┆ 567 ┆ 567 ┆ 567 ┆ 567 ┆ 567 ┆ 567 ┆ 567 ┆ 567 ┆ 567 ┆ 567 ┆ 567 ┆ 567 ┆ 567 ┆ 567 ┆ 567 ┆ 567 ┆ 567 ┆ … ┆ 583 ┆ 583 ┆ 583 ┆ 583 ┆ 583 ┆ 583 ┆ 583 ┆ 583 ┆ 583 ┆ 583 ┆ 583 ┆ 583 ┆ 583 ┆ 583 ┆ 583 ┆ 583 ┆ 583 ┆ 583 ┆ 583 ┆ 583 ┆ 583 ┆ 583 ┆ 583 ┆ 583 ┆ 583 ┆ 583 ┆ 583 ┆ 584 ┆ 584 ┆ 584 ┆ 584 ┆ 584 ┆ 584 ┆ 584 ┆ 584 ┆ 584 ┆ 584 ┆ 584 ┆ 584 ┆ 584 ┆ 584 ┆ 584 ┆ 584 ┆ 584 ┆ 584 ┆ 584 ┆ 584 ┆ 584 ┆ 584 ┆ 584 │\n",
       "│ 011 ┆ eup ┆     ┆ 005 ┆ 017 ┆ 029 ┆ 041 ┆ 053 ┆ 065 ┆ 077 ┆ 089 ┆ 101 ┆ 113 ┆ 125 ┆ 137 ┆ 149 ┆ 161 ┆ 173 ┆ 185 ┆ 197 ┆ 209 ┆ 221 ┆ 233 ┆ 245 ┆ 257 ┆ 269 ┆ 281 ┆ 293 ┆ 305 ┆ 317 ┆ 329 ┆ 341 ┆ 353 ┆ 365 ┆ 377 ┆ 389 ┆ 401 ┆ 413 ┆ 425 ┆ 437 ┆ 449 ┆ 461 ┆ 473 ┆ 485 ┆ 497 ┆ 509 ┆ 521 ┆ 533 ┆ 545 ┆ 557 ┆   ┆ 685 ┆ 697 ┆ 709 ┆ 721 ┆ 733 ┆ 745 ┆ 757 ┆ 769 ┆ 781 ┆ 793 ┆ 805 ┆ 817 ┆ 829 ┆ 841 ┆ 853 ┆ 865 ┆ 877 ┆ 889 ┆ 901 ┆ 913 ┆ 925 ┆ 937 ┆ 949 ┆ 961 ┆ 973 ┆ 985 ┆ 997 ┆ 009 ┆ 021 ┆ 033 ┆ 045 ┆ 057 ┆ 069 ┆ 081 ┆ 093 ┆ 105 ┆ 117 ┆ 129 ┆ 141 ┆ 153 ┆ 165 ┆ 177 ┆ 189 ┆ 201 ┆ 213 ┆ 225 ┆ 237 ┆ 249 ┆ 261 ┆ 273 │\n",
       "│ 078 ┆     ┆     ┆     ┆     ┆     ┆     ┆     ┆     ┆     ┆     ┆     ┆     ┆     ┆     ┆     ┆     ┆     ┆     ┆     ┆     ┆     ┆     ┆     ┆     ┆     ┆     ┆     ┆     ┆     ┆     ┆     ┆     ┆     ┆     ┆     ┆     ┆     ┆     ┆     ┆     ┆     ┆     ┆     ┆     ┆     ┆     ┆     ┆     ┆     ┆   ┆     ┆     ┆     ┆     ┆     ┆     ┆     ┆     ┆     ┆     ┆     ┆     ┆     ┆     ┆     ┆     ┆     ┆     ┆     ┆     ┆     ┆     ┆     ┆     ┆     ┆     ┆     ┆     ┆     ┆     ┆     ┆     ┆     ┆     ┆     ┆     ┆     ┆     ┆     ┆     ┆     ┆     ┆     ┆     ┆     ┆     ┆     ┆     ┆     ┆     │\n",
       "│ 8d2 ┆     ┆     ┆     ┆     ┆     ┆     ┆     ┆     ┆     ┆     ┆     ┆     ┆     ┆     ┆     ┆     ┆     ┆     ┆     ┆     ┆     ┆     ┆     ┆     ┆     ┆     ┆     ┆     ┆     ┆     ┆     ┆     ┆     ┆     ┆     ┆     ┆     ┆     ┆     ┆     ┆     ┆     ┆     ┆     ┆     ┆     ┆     ┆     ┆     ┆   ┆     ┆     ┆     ┆     ┆     ┆     ┆     ┆     ┆     ┆     ┆     ┆     ┆     ┆     ┆     ┆     ┆     ┆     ┆     ┆     ┆     ┆     ┆     ┆     ┆     ┆     ┆     ┆     ┆     ┆     ┆     ┆     ┆     ┆     ┆     ┆     ┆     ┆     ┆     ┆     ┆     ┆     ┆     ┆     ┆     ┆     ┆     ┆     ┆     ┆     │\n",
       "│ fe9 ┆ wak ┆ 35  ┆ 584 ┆ 584 ┆ 584 ┆ 584 ┆ 584 ┆ 584 ┆ 584 ┆ 584 ┆ 584 ┆ 584 ┆ 584 ┆ 584 ┆ 584 ┆ 584 ┆ 584 ┆ 584 ┆ 584 ┆ 584 ┆ 584 ┆ 584 ┆ 584 ┆ 584 ┆ 584 ┆ 584 ┆ 584 ┆ 584 ┆ 584 ┆ 584 ┆ 584 ┆ 584 ┆ 584 ┆ 584 ┆ 584 ┆ 584 ┆ 584 ┆ 584 ┆ 584 ┆ 584 ┆ 584 ┆ 584 ┆ 584 ┆ 584 ┆ 584 ┆ 584 ┆ 584 ┆ 584 ┆ 584 ┆ … ┆ 0   ┆ 0   ┆ 0   ┆ 0   ┆ 0   ┆ 0   ┆ 0   ┆ 0   ┆ 0   ┆ 0   ┆ 0   ┆ 0   ┆ 0   ┆ 0   ┆ 0   ┆ 0   ┆ 0   ┆ 0   ┆ 0   ┆ 0   ┆ 0   ┆ 0   ┆ 0   ┆ 0   ┆ 0   ┆ 0   ┆ 0   ┆ 0   ┆ 0   ┆ 0   ┆ 0   ┆ 0   ┆ 0   ┆ 0   ┆ 0   ┆ 0   ┆ 0   ┆ 0   ┆ 0   ┆ 0   ┆ 0   ┆ 0   ┆ 0   ┆ 0   ┆ 0   ┆ 0   ┆ 0   ┆ 0   ┆ 0   ┆ 0   │\n",
       "│ 011 ┆ eup ┆     ┆ 285 ┆ 297 ┆ 309 ┆ 321 ┆ 333 ┆ 345 ┆ 357 ┆ 369 ┆ 381 ┆ 393 ┆ 405 ┆ 417 ┆ 429 ┆ 441 ┆ 453 ┆ 465 ┆ 477 ┆ 489 ┆ 501 ┆ 513 ┆ 525 ┆ 537 ┆ 549 ┆ 561 ┆ 573 ┆ 585 ┆ 597 ┆ 609 ┆ 621 ┆ 633 ┆ 645 ┆ 657 ┆ 669 ┆ 681 ┆ 693 ┆ 705 ┆ 717 ┆ 729 ┆ 741 ┆ 753 ┆ 765 ┆ 777 ┆ 789 ┆ 801 ┆ 813 ┆ 825 ┆ 837 ┆   ┆     ┆     ┆     ┆     ┆     ┆     ┆     ┆     ┆     ┆     ┆     ┆     ┆     ┆     ┆     ┆     ┆     ┆     ┆     ┆     ┆     ┆     ┆     ┆     ┆     ┆     ┆     ┆     ┆     ┆     ┆     ┆     ┆     ┆     ┆     ┆     ┆     ┆     ┆     ┆     ┆     ┆     ┆     ┆     ┆     ┆     ┆     ┆     ┆     ┆     │\n",
       "│ 078 ┆     ┆     ┆     ┆     ┆     ┆     ┆     ┆     ┆     ┆     ┆     ┆     ┆     ┆     ┆     ┆     ┆     ┆     ┆     ┆     ┆     ┆     ┆     ┆     ┆     ┆     ┆     ┆     ┆     ┆     ┆     ┆     ┆     ┆     ┆     ┆     ┆     ┆     ┆     ┆     ┆     ┆     ┆     ┆     ┆     ┆     ┆     ┆     ┆     ┆   ┆     ┆     ┆     ┆     ┆     ┆     ┆     ┆     ┆     ┆     ┆     ┆     ┆     ┆     ┆     ┆     ┆     ┆     ┆     ┆     ┆     ┆     ┆     ┆     ┆     ┆     ┆     ┆     ┆     ┆     ┆     ┆     ┆     ┆     ┆     ┆     ┆     ┆     ┆     ┆     ┆     ┆     ┆     ┆     ┆     ┆     ┆     ┆     ┆     ┆     │\n",
       "│ 8d2 ┆     ┆     ┆     ┆     ┆     ┆     ┆     ┆     ┆     ┆     ┆     ┆     ┆     ┆     ┆     ┆     ┆     ┆     ┆     ┆     ┆     ┆     ┆     ┆     ┆     ┆     ┆     ┆     ┆     ┆     ┆     ┆     ┆     ┆     ┆     ┆     ┆     ┆     ┆     ┆     ┆     ┆     ┆     ┆     ┆     ┆     ┆     ┆     ┆     ┆   ┆     ┆     ┆     ┆     ┆     ┆     ┆     ┆     ┆     ┆     ┆     ┆     ┆     ┆     ┆     ┆     ┆     ┆     ┆     ┆     ┆     ┆     ┆     ┆     ┆     ┆     ┆     ┆     ┆     ┆     ┆     ┆     ┆     ┆     ┆     ┆     ┆     ┆     ┆     ┆     ┆     ┆     ┆     ┆     ┆     ┆     ┆     ┆     ┆     ┆     │\n",
       "└─────┴─────┴─────┴─────┴─────┴─────┴─────┴─────┴─────┴─────┴─────┴─────┴─────┴─────┴─────┴─────┴─────┴─────┴─────┴─────┴─────┴─────┴─────┴─────┴─────┴─────┴─────┴─────┴─────┴─────┴─────┴─────┴─────┴─────┴─────┴─────┴─────┴─────┴─────┴─────┴─────┴─────┴─────┴─────┴─────┴─────┴─────┴─────┴─────┴─────┴───┴─────┴─────┴─────┴─────┴─────┴─────┴─────┴─────┴─────┴─────┴─────┴─────┴─────┴─────┴─────┴─────┴─────┴─────┴─────┴─────┴─────┴─────┴─────┴─────┴─────┴─────┴─────┴─────┴─────┴─────┴─────┴─────┴─────┴─────┴─────┴─────┴─────┴─────┴─────┴─────┴─────┴─────┴─────┴─────┴─────┴─────┴─────┴─────┴─────┴─────┘"
      ]
     },
     "metadata": {},
     "output_type": "display_data"
    },
    {
     "name": "stdout",
     "output_type": "stream",
     "text": [
      "\n",
      "(14912, 1443)\n"
     ]
    },
    {
     "data": {
      "text/plain": [
       "18"
      ]
     },
     "execution_count": 16,
     "metadata": {},
     "output_type": "execute_result"
    }
   ],
   "source": [
    "ys = create_ys_like(list_onset_df_1min, list_wakeup_df_1min, 'target')\n",
    "masks = create_ys_like(list_onset_df_1min, list_wakeup_df_1min, 'valid_flag')\n",
    "steps = create_ys_like(list_onset_df_1min, list_wakeup_df_1min, 'step')\n",
    "\n",
    "display(steps.head(5))\n",
    "display(steps.tail(5))\n",
    "print()\n",
    "print(ys.shape)\n",
    "\n",
    "del list_onset_df_1min, list_wakeup_df_1min\n",
    "gc.collect()"
   ]
  },
  {
   "cell_type": "code",
   "execution_count": 17,
   "id": "a59e710c-7d49-474f-8a6d-b031064efb5d",
   "metadata": {},
   "outputs": [
    {
     "name": "stdout",
     "output_type": "stream",
     "text": [
      "Xs.pkl // FILE SIZE: 3195 MB\n",
      "ys.pkl // FILE SIZE: 82 MB\n",
      "masks.pkl // FILE SIZE: 82 MB\n",
      "steps.pkl // FILE SIZE: 82 MB\n"
     ]
    }
   ],
   "source": [
    "pkl_save(Xs, VERSION_DIR, 'Xs')\n",
    "pkl_save(ys[:, 3:].to_numpy(), VERSION_DIR, 'ys')\n",
    "pkl_save(masks[:, 3:].to_numpy(), VERSION_DIR, 'masks')\n",
    "pkl_save(steps.to_pandas(), VERSION_DIR, 'steps')"
   ]
  },
  {
   "cell_type": "code",
   "execution_count": 18,
   "id": "d883534f-b58f-46ba-bc9e-f40cdb473ded",
   "metadata": {},
   "outputs": [
    {
     "data": {
      "text/plain": [
       "'import IPython\\n\\nget_ipython().kernel.do_shutdown(restart=False)'"
      ]
     },
     "execution_count": 18,
     "metadata": {},
     "output_type": "execute_result"
    }
   ],
   "source": [
    "'''import IPython\n",
    "\n",
    "get_ipython().kernel.do_shutdown(restart=False)'''"
   ]
  }
 ],
 "metadata": {
  "kernelspec": {
   "display_name": "gpu",
   "language": "python",
   "name": "gpu"
  },
  "language_info": {
   "codemirror_mode": {
    "name": "ipython",
    "version": 3
   },
   "file_extension": ".py",
   "mimetype": "text/x-python",
   "name": "python",
   "nbconvert_exporter": "python",
   "pygments_lexer": "ipython3",
   "version": "3.10.0"
  }
 },
 "nbformat": 4,
 "nbformat_minor": 5
}
